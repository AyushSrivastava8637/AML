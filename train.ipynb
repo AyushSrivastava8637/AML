{
 "cells": [
  {
   "cell_type": "code",
   "execution_count": 1,
   "id": "27161a91",
   "metadata": {},
   "outputs": [],
   "source": [
    "import warnings\n",
    "warnings.filterwarnings('ignore')"
   ]
  },
  {
   "cell_type": "code",
   "execution_count": 2,
   "id": "dbb2c228",
   "metadata": {},
   "outputs": [
    {
     "name": "stdout",
     "output_type": "stream",
     "text": [
      "Requirement already satisfied: textblob in c:\\users\\public\\python\\lib\\site-packages (0.17.1)\n",
      "Requirement already satisfied: nltk>=3.1 in c:\\users\\public\\python\\lib\\site-packages (from textblob) (3.7)\n",
      "Requirement already satisfied: regex>=2021.8.3 in c:\\users\\public\\python\\lib\\site-packages (from nltk>=3.1->textblob) (2022.7.9)\n",
      "Requirement already satisfied: joblib in c:\\users\\public\\python\\lib\\site-packages (from nltk>=3.1->textblob) (1.1.0)\n",
      "Requirement already satisfied: tqdm in c:\\users\\public\\python\\lib\\site-packages (from nltk>=3.1->textblob) (4.64.1)\n",
      "Requirement already satisfied: click in c:\\users\\public\\python\\lib\\site-packages (from nltk>=3.1->textblob) (8.0.4)\n",
      "Requirement already satisfied: colorama in c:\\users\\public\\python\\lib\\site-packages (from click->nltk>=3.1->textblob) (0.4.5)\n"
     ]
    }
   ],
   "source": [
    "import pandas as pd\n",
    "!pip install textblob\n",
    "from sklearn.model_selection import GridSearchCV"
   ]
  },
  {
   "cell_type": "code",
   "execution_count": 3,
   "id": "bec501db",
   "metadata": {},
   "outputs": [],
   "source": [
    "%matplotlib inline\n",
    "import matplotlib.pyplot as plt\n",
    "import csv\n",
    "from textblob import TextBlob\n",
    "import pandas\n",
    "import sklearn\n",
    "import pickle\n",
    "import numpy as np\n",
    "from sklearn.feature_extraction.text import CountVectorizer, TfidfTransformer\n",
    "from sklearn.naive_bayes import MultinomialNB\n",
    "from sklearn.svm import SVC, LinearSVC\n",
    "from sklearn.metrics import classification_report, f1_score, accuracy_score, confusion_matrix\n",
    "from sklearn.pipeline import Pipeline\n",
    "#from sklearn.grid_search import GridSearchCV\n",
    "from sklearn.model_selection import RandomizedSearchCV\n",
    "from sklearn.model_selection import GridSearchCV\n",
    "from sklearn.model_selection import train_test_split\n",
    "from sklearn.model_selection import StratifiedKFold, cross_val_score, train_test_split \n",
    "from sklearn.tree import DecisionTreeClassifier \n",
    "from sklearn.model_selection import learning_curve\n",
    "from nltk.corpus import stopwords\n",
    "stop_words=set(stopwords.words('english'))\n",
    "import regex as re\n",
    "from nltk.stem import WordNetLemmatizer\n",
    "import string"
   ]
  },
  {
   "cell_type": "code",
   "execution_count": 4,
   "id": "9e188e50",
   "metadata": {},
   "outputs": [],
   "source": [
    "train=pd.read_csv(\"C:/Users/Ajay K Srivastava/train.csv\")\n",
    "val=pd.read_csv(\"C:/Users/Ajay K Srivastava/validation.csv\")\n",
    "test=pd.read_csv(\"C:/Users/Ajay K Srivastava/test.csv\")"
   ]
  },
  {
   "cell_type": "markdown",
   "id": "f1f93caa",
   "metadata": {},
   "source": [
    "# Multinomial Naive Bayes Model (tfidf tokenizer) "
   ]
  },
  {
   "cell_type": "code",
   "execution_count": 5,
   "id": "1de18053",
   "metadata": {},
   "outputs": [
    {
     "data": {
      "text/plain": [
       "CountVectorizer()"
      ]
     },
     "execution_count": 5,
     "metadata": {},
     "output_type": "execute_result"
    }
   ],
   "source": [
    "vectorizer = CountVectorizer()\n",
    "vectorizer.fit(train.X_train)"
   ]
  },
  {
   "cell_type": "markdown",
   "id": "f1065978",
   "metadata": {},
   "source": [
    "# Tf-Idf Tokenizer"
   ]
  },
  {
   "cell_type": "code",
   "execution_count": 6,
   "id": "5748ee98",
   "metadata": {},
   "outputs": [
    {
     "name": "stdout",
     "output_type": "stream",
     "text": [
      "7331\n"
     ]
    },
    {
     "data": {
      "text/plain": [
       "((4514, 7331), (502, 7331))"
      ]
     },
     "execution_count": 6,
     "metadata": {},
     "output_type": "execute_result"
    }
   ],
   "source": [
    "bagofwords=vectorizer.vocabulary_\n",
    "X_train=vectorizer.transform(train.X_train)\n",
    "X_val=vectorizer.transform(val.X_val)\n",
    "X_test=vectorizer.transform(test.X_test)\n",
    "print(len(bagofwords))\n",
    "X_train.shape,X_val.shape"
   ]
  },
  {
   "cell_type": "code",
   "execution_count": 7,
   "id": "f322835e",
   "metadata": {},
   "outputs": [
    {
     "data": {
      "text/plain": [
       "((4514, 7331), (502, 7331))"
      ]
     },
     "execution_count": 7,
     "metadata": {},
     "output_type": "execute_result"
    }
   ],
   "source": [
    "tfidf_transformer = TfidfTransformer().fit(X_train)\n",
    "X_train_tfidf=tfidf_transformer.transform(X_train)\n",
    "X_val_tfidf=tfidf_transformer.transform(X_val)\n",
    "X_test_tfidf=tfidf_transformer.transform(X_test)\n",
    "X_train_tfidf.shape,X_val_tfidf.shape"
   ]
  },
  {
   "cell_type": "markdown",
   "id": "f8d1d7dd",
   "metadata": {},
   "source": [
    "# Model Fitting and Hyperparameter Tuning"
   ]
  },
  {
   "cell_type": "code",
   "execution_count": 8,
   "id": "d5da7349",
   "metadata": {},
   "outputs": [
    {
     "name": "stdout",
     "output_type": "stream",
     "text": [
      "0.9900398406374502 \n",
      "               precision    recall  f1-score   support\n",
      "\n",
      "         ham       0.99      1.00      0.99       440\n",
      "        spam       1.00      0.92      0.96        62\n",
      "\n",
      "    accuracy                           0.99       502\n",
      "   macro avg       0.99      0.96      0.98       502\n",
      "weighted avg       0.99      0.99      0.99       502\n",
      "\n",
      "0.9880478087649402 \n",
      "               precision    recall  f1-score   support\n",
      "\n",
      "         ham       0.99      1.00      0.99       440\n",
      "        spam       1.00      0.90      0.95        62\n",
      "\n",
      "    accuracy                           0.99       502\n",
      "   macro avg       0.99      0.95      0.97       502\n",
      "weighted avg       0.99      0.99      0.99       502\n",
      "\n",
      "0.9820717131474104 \n",
      "               precision    recall  f1-score   support\n",
      "\n",
      "         ham       0.98      1.00      0.99       440\n",
      "        spam       1.00      0.85      0.92        62\n",
      "\n",
      "    accuracy                           0.98       502\n",
      "   macro avg       0.99      0.93      0.96       502\n",
      "weighted avg       0.98      0.98      0.98       502\n",
      "\n",
      "0.9800796812749004 \n",
      "               precision    recall  f1-score   support\n",
      "\n",
      "         ham       0.98      1.00      0.99       440\n",
      "        spam       1.00      0.84      0.91        62\n",
      "\n",
      "    accuracy                           0.98       502\n",
      "   macro avg       0.99      0.92      0.95       502\n",
      "weighted avg       0.98      0.98      0.98       502\n",
      "\n",
      "0.9760956175298805 \n",
      "               precision    recall  f1-score   support\n",
      "\n",
      "         ham       0.97      1.00      0.99       440\n",
      "        spam       1.00      0.81      0.89        62\n",
      "\n",
      "    accuracy                           0.98       502\n",
      "   macro avg       0.99      0.90      0.94       502\n",
      "weighted avg       0.98      0.98      0.97       502\n",
      "\n",
      "0.9741035856573705 \n",
      "               precision    recall  f1-score   support\n",
      "\n",
      "         ham       0.97      1.00      0.99       440\n",
      "        spam       1.00      0.79      0.88        62\n",
      "\n",
      "    accuracy                           0.97       502\n",
      "   macro avg       0.99      0.90      0.93       502\n",
      "weighted avg       0.97      0.97      0.97       502\n",
      "\n",
      "0.9701195219123506 \n",
      "               precision    recall  f1-score   support\n",
      "\n",
      "         ham       0.97      1.00      0.98       440\n",
      "        spam       1.00      0.76      0.86        62\n",
      "\n",
      "    accuracy                           0.97       502\n",
      "   macro avg       0.98      0.88      0.92       502\n",
      "weighted avg       0.97      0.97      0.97       502\n",
      "\n",
      "0.9661354581673307 \n",
      "               precision    recall  f1-score   support\n",
      "\n",
      "         ham       0.96      1.00      0.98       440\n",
      "        spam       1.00      0.73      0.84        62\n",
      "\n",
      "    accuracy                           0.97       502\n",
      "   macro avg       0.98      0.86      0.91       502\n",
      "weighted avg       0.97      0.97      0.96       502\n",
      "\n"
     ]
    }
   ],
   "source": [
    "for i in np.arange(0.25, 2.25, 0.25):\n",
    "    spam_detector = MultinomialNB(alpha=i).fit(X_train_tfidf, train.y_train)\n",
    "    y_pred = spam_detector.predict(X_val_tfidf)\n",
    "    print(accuracy_score(val.y_val, y_pred), '\\n', classification_report(val.y_val, y_pred))"
   ]
  },
  {
   "cell_type": "markdown",
   "id": "9dae0f24",
   "metadata": {},
   "source": [
    "# Alpha = 0.5 gives best results. It maximises accuracy and recall for Spam mails."
   ]
  },
  {
   "cell_type": "code",
   "execution_count": 9,
   "id": "606fc309",
   "metadata": {},
   "outputs": [],
   "source": [
    "spam_detector = MultinomialNB(alpha=0.5).fit(X_train_tfidf, train.y_train)"
   ]
  },
  {
   "cell_type": "code",
   "execution_count": 10,
   "id": "53fd1635",
   "metadata": {},
   "outputs": [
    {
     "data": {
      "text/plain": [
       "0.9880478087649402"
      ]
     },
     "execution_count": 10,
     "metadata": {},
     "output_type": "execute_result"
    }
   ],
   "source": [
    "y_pred = spam_detector.predict(X_val_tfidf)\n",
    "accuracy_score(val.y_val, y_pred)"
   ]
  },
  {
   "cell_type": "code",
   "execution_count": 11,
   "id": "d916f29b",
   "metadata": {},
   "outputs": [
    {
     "name": "stdout",
     "output_type": "stream",
     "text": [
      "              precision    recall  f1-score   support\n",
      "\n",
      "         ham       0.99      1.00      0.99       440\n",
      "        spam       1.00      0.90      0.95        62\n",
      "\n",
      "    accuracy                           0.99       502\n",
      "   macro avg       0.99      0.95      0.97       502\n",
      "weighted avg       0.99      0.99      0.99       502\n",
      "\n"
     ]
    }
   ],
   "source": [
    "print(classification_report(val.y_val, y_pred))"
   ]
  },
  {
   "cell_type": "code",
   "execution_count": 12,
   "id": "34189d69",
   "metadata": {},
   "outputs": [
    {
     "data": {
      "text/plain": [
       "0.982078853046595"
      ]
     },
     "execution_count": 12,
     "metadata": {},
     "output_type": "execute_result"
    }
   ],
   "source": [
    "y_pred_test = spam_detector.predict(X_test_tfidf)\n",
    "accuracy_score(test.y_test, y_pred_test)"
   ]
  },
  {
   "cell_type": "markdown",
   "id": "c0f2abe6",
   "metadata": {},
   "source": [
    "# Model Evaluation on Test Data"
   ]
  },
  {
   "cell_type": "code",
   "execution_count": 13,
   "id": "52ead745",
   "metadata": {},
   "outputs": [
    {
     "name": "stdout",
     "output_type": "stream",
     "text": [
      "              precision    recall  f1-score   support\n",
      "\n",
      "         ham       0.98      1.00      0.99       478\n",
      "        spam       1.00      0.88      0.93        80\n",
      "\n",
      "    accuracy                           0.98       558\n",
      "   macro avg       0.99      0.94      0.96       558\n",
      "weighted avg       0.98      0.98      0.98       558\n",
      "\n"
     ]
    }
   ],
   "source": [
    "print(classification_report(test.y_test, y_pred_test))"
   ]
  },
  {
   "cell_type": "markdown",
   "id": "d75bd483",
   "metadata": {},
   "source": [
    "# Multinomial Naive Bayes Model (Count tokenizer)"
   ]
  },
  {
   "cell_type": "code",
   "execution_count": 14,
   "id": "eb850529",
   "metadata": {},
   "outputs": [
    {
     "data": {
      "text/plain": [
       "CountVectorizer()"
      ]
     },
     "execution_count": 14,
     "metadata": {},
     "output_type": "execute_result"
    }
   ],
   "source": [
    "vectorizer = CountVectorizer()\n",
    "vectorizer.fit(train.X_train)"
   ]
  },
  {
   "cell_type": "code",
   "execution_count": 15,
   "id": "e09fe87b",
   "metadata": {},
   "outputs": [
    {
     "name": "stdout",
     "output_type": "stream",
     "text": [
      "7331\n"
     ]
    },
    {
     "data": {
      "text/plain": [
       "((4514, 7331), (502, 7331))"
      ]
     },
     "execution_count": 15,
     "metadata": {},
     "output_type": "execute_result"
    }
   ],
   "source": [
    "bagofwords=vectorizer.vocabulary_\n",
    "X_train=vectorizer.transform(train.X_train)\n",
    "X_val=vectorizer.transform(val.X_val)\n",
    "X_test=vectorizer.transform(test.X_test)\n",
    "print(len(bagofwords))\n",
    "X_train.shape,X_val.shape"
   ]
  },
  {
   "cell_type": "code",
   "execution_count": 16,
   "id": "15ce5f8c",
   "metadata": {},
   "outputs": [
    {
     "name": "stdout",
     "output_type": "stream",
     "text": [
      "0.9880478087649402 \n",
      "               precision    recall  f1-score   support\n",
      "\n",
      "         ham       0.99      1.00      0.99       440\n",
      "        spam       0.97      0.94      0.95        62\n",
      "\n",
      "    accuracy                           0.99       502\n",
      "   macro avg       0.98      0.97      0.97       502\n",
      "weighted avg       0.99      0.99      0.99       502\n",
      "\n",
      "0.9880478087649402 \n",
      "               precision    recall  f1-score   support\n",
      "\n",
      "         ham       0.99      1.00      0.99       440\n",
      "        spam       0.97      0.94      0.95        62\n",
      "\n",
      "    accuracy                           0.99       502\n",
      "   macro avg       0.98      0.97      0.97       502\n",
      "weighted avg       0.99      0.99      0.99       502\n",
      "\n",
      "0.9880478087649402 \n",
      "               precision    recall  f1-score   support\n",
      "\n",
      "         ham       0.99      1.00      0.99       440\n",
      "        spam       0.97      0.94      0.95        62\n",
      "\n",
      "    accuracy                           0.99       502\n",
      "   macro avg       0.98      0.97      0.97       502\n",
      "weighted avg       0.99      0.99      0.99       502\n",
      "\n",
      "0.9880478087649402 \n",
      "               precision    recall  f1-score   support\n",
      "\n",
      "         ham       0.99      1.00      0.99       440\n",
      "        spam       0.97      0.94      0.95        62\n",
      "\n",
      "    accuracy                           0.99       502\n",
      "   macro avg       0.98      0.97      0.97       502\n",
      "weighted avg       0.99      0.99      0.99       502\n",
      "\n",
      "0.9880478087649402 \n",
      "               precision    recall  f1-score   support\n",
      "\n",
      "         ham       0.99      1.00      0.99       440\n",
      "        spam       0.97      0.94      0.95        62\n",
      "\n",
      "    accuracy                           0.99       502\n",
      "   macro avg       0.98      0.97      0.97       502\n",
      "weighted avg       0.99      0.99      0.99       502\n",
      "\n",
      "0.9880478087649402 \n",
      "               precision    recall  f1-score   support\n",
      "\n",
      "         ham       0.99      1.00      0.99       440\n",
      "        spam       0.97      0.94      0.95        62\n",
      "\n",
      "    accuracy                           0.99       502\n",
      "   macro avg       0.98      0.97      0.97       502\n",
      "weighted avg       0.99      0.99      0.99       502\n",
      "\n",
      "0.9880478087649402 \n",
      "               precision    recall  f1-score   support\n",
      "\n",
      "         ham       0.99      1.00      0.99       440\n",
      "        spam       0.97      0.94      0.95        62\n",
      "\n",
      "    accuracy                           0.99       502\n",
      "   macro avg       0.98      0.97      0.97       502\n",
      "weighted avg       0.99      0.99      0.99       502\n",
      "\n",
      "0.9880478087649402 \n",
      "               precision    recall  f1-score   support\n",
      "\n",
      "         ham       0.99      1.00      0.99       440\n",
      "        spam       0.97      0.94      0.95        62\n",
      "\n",
      "    accuracy                           0.99       502\n",
      "   macro avg       0.98      0.97      0.97       502\n",
      "weighted avg       0.99      0.99      0.99       502\n",
      "\n"
     ]
    }
   ],
   "source": [
    "for i in np.arange(0.25, 2.25, 0.25):\n",
    "    spam_detector = MultinomialNB(alpha=i).fit(X_train, train.y_train)\n",
    "    y_pred = spam_detector.predict(X_val)\n",
    "    print(accuracy_score(val.y_val, y_pred), '\\n', classification_report(val.y_val, y_pred))\n"
   ]
  },
  {
   "cell_type": "markdown",
   "id": "f9856d1f",
   "metadata": {},
   "source": [
    "# The model performs similar for all values of alpha from 0.5 to 2"
   ]
  },
  {
   "cell_type": "markdown",
   "id": "fd9f0af5",
   "metadata": {},
   "source": [
    "# Support Vector Classifier Model"
   ]
  },
  {
   "cell_type": "code",
   "execution_count": 17,
   "id": "0008e15f",
   "metadata": {},
   "outputs": [
    {
     "data": {
      "text/plain": [
       "SVC(C=1)"
      ]
     },
     "execution_count": 17,
     "metadata": {},
     "output_type": "execute_result"
    }
   ],
   "source": [
    "clf = SVC(C=1)\n",
    "clf.fit(X_train_tfidf, train.y_train)\n"
   ]
  },
  {
   "cell_type": "code",
   "execution_count": 18,
   "id": "638ba57e",
   "metadata": {},
   "outputs": [
    {
     "name": "stdout",
     "output_type": "stream",
     "text": [
      "0.9880478087649402 \n",
      "               precision    recall  f1-score   support\n",
      "\n",
      "         ham       0.99      1.00      0.99       440\n",
      "        spam       0.97      0.94      0.95        62\n",
      "\n",
      "    accuracy                           0.99       502\n",
      "   macro avg       0.98      0.97      0.97       502\n",
      "weighted avg       0.99      0.99      0.99       502\n",
      "\n"
     ]
    }
   ],
   "source": [
    "y_predicted = clf.predict(X_val_tfidf)\n",
    "print(accuracy_score(val.y_val, y_pred), '\\n', classification_report(val.y_val, y_pred))"
   ]
  },
  {
   "cell_type": "code",
   "execution_count": 19,
   "id": "92033dfd",
   "metadata": {},
   "outputs": [
    {
     "name": "stdout",
     "output_type": "stream",
     "text": [
      "0.9880478087649402 \n",
      "               precision    recall  f1-score   support\n",
      "\n",
      "         ham       0.99      1.00      0.99       440\n",
      "        spam       0.97      0.94      0.95        62\n",
      "\n",
      "    accuracy                           0.99       502\n",
      "   macro avg       0.98      0.97      0.97       502\n",
      "weighted avg       0.99      0.99      0.99       502\n",
      "\n",
      "0.9880478087649402 \n",
      "               precision    recall  f1-score   support\n",
      "\n",
      "         ham       0.99      1.00      0.99       440\n",
      "        spam       0.97      0.94      0.95        62\n",
      "\n",
      "    accuracy                           0.99       502\n",
      "   macro avg       0.98      0.97      0.97       502\n",
      "weighted avg       0.99      0.99      0.99       502\n",
      "\n",
      "0.9880478087649402 \n",
      "               precision    recall  f1-score   support\n",
      "\n",
      "         ham       0.99      1.00      0.99       440\n",
      "        spam       0.97      0.94      0.95        62\n",
      "\n",
      "    accuracy                           0.99       502\n",
      "   macro avg       0.98      0.97      0.97       502\n",
      "weighted avg       0.99      0.99      0.99       502\n",
      "\n",
      "0.9880478087649402 \n",
      "               precision    recall  f1-score   support\n",
      "\n",
      "         ham       0.99      1.00      0.99       440\n",
      "        spam       0.97      0.94      0.95        62\n",
      "\n",
      "    accuracy                           0.99       502\n",
      "   macro avg       0.98      0.97      0.97       502\n",
      "weighted avg       0.99      0.99      0.99       502\n",
      "\n",
      "0.9880478087649402 \n",
      "               precision    recall  f1-score   support\n",
      "\n",
      "         ham       0.99      1.00      0.99       440\n",
      "        spam       0.97      0.94      0.95        62\n",
      "\n",
      "    accuracy                           0.99       502\n",
      "   macro avg       0.98      0.97      0.97       502\n",
      "weighted avg       0.99      0.99      0.99       502\n",
      "\n",
      "0.9880478087649402 \n",
      "               precision    recall  f1-score   support\n",
      "\n",
      "         ham       0.99      1.00      0.99       440\n",
      "        spam       0.97      0.94      0.95        62\n",
      "\n",
      "    accuracy                           0.99       502\n",
      "   macro avg       0.98      0.97      0.97       502\n",
      "weighted avg       0.99      0.99      0.99       502\n",
      "\n",
      "0.9880478087649402 \n",
      "               precision    recall  f1-score   support\n",
      "\n",
      "         ham       0.99      1.00      0.99       440\n",
      "        spam       0.97      0.94      0.95        62\n",
      "\n",
      "    accuracy                           0.99       502\n",
      "   macro avg       0.98      0.97      0.97       502\n",
      "weighted avg       0.99      0.99      0.99       502\n",
      "\n",
      "0.9880478087649402 \n",
      "               precision    recall  f1-score   support\n",
      "\n",
      "         ham       0.99      1.00      0.99       440\n",
      "        spam       0.97      0.94      0.95        62\n",
      "\n",
      "    accuracy                           0.99       502\n",
      "   macro avg       0.98      0.97      0.97       502\n",
      "weighted avg       0.99      0.99      0.99       502\n",
      "\n",
      "0.9880478087649402 \n",
      "               precision    recall  f1-score   support\n",
      "\n",
      "         ham       0.99      1.00      0.99       440\n",
      "        spam       0.97      0.94      0.95        62\n",
      "\n",
      "    accuracy                           0.99       502\n",
      "   macro avg       0.98      0.97      0.97       502\n",
      "weighted avg       0.99      0.99      0.99       502\n",
      "\n",
      "0.9880478087649402 \n",
      "               precision    recall  f1-score   support\n",
      "\n",
      "         ham       0.99      1.00      0.99       440\n",
      "        spam       0.97      0.94      0.95        62\n",
      "\n",
      "    accuracy                           0.99       502\n",
      "   macro avg       0.98      0.97      0.97       502\n",
      "weighted avg       0.99      0.99      0.99       502\n",
      "\n"
     ]
    }
   ],
   "source": [
    "for i in range(1,10000,1000):\n",
    "    clf = SVC(C=i)\n",
    "    clf.fit(X_train_tfidf, train.y_train)\n",
    "    y_predicted = clf.predict(X_val_tfidf)\n",
    "    print(accuracy_score(val.y_val, y_pred), '\\n', classification_report(val.y_val, y_pred))"
   ]
  },
  {
   "cell_type": "markdown",
   "id": "7b466499",
   "metadata": {},
   "source": [
    "# Model performs similar for the different values of regularization parameter."
   ]
  }
 ],
 "metadata": {
  "kernelspec": {
   "display_name": "Python 3 (ipykernel)",
   "language": "python",
   "name": "python3"
  },
  "language_info": {
   "codemirror_mode": {
    "name": "ipython",
    "version": 3
   },
   "file_extension": ".py",
   "mimetype": "text/x-python",
   "name": "python",
   "nbconvert_exporter": "python",
   "pygments_lexer": "ipython3",
   "version": "3.9.13"
  }
 },
 "nbformat": 4,
 "nbformat_minor": 5
}
