{
  "nbformat": 4,
  "nbformat_minor": 0,
  "metadata": {
    "colab": {
      "provenance": []
    },
    "kernelspec": {
      "name": "python3",
      "display_name": "Python 3"
    },
    "language_info": {
      "name": "python"
    }
  },
  "cells": [
    {
      "cell_type": "code",
      "execution_count": 88,
      "metadata": {
        "colab": {
          "base_uri": "https://localhost:8080/"
        },
        "id": "B6m1hKrffX3y",
        "outputId": "f618d5fe-5fe1-4b8a-c787-cc3aa641b695"
      },
      "outputs": [
        {
          "output_type": "stream",
          "name": "stdout",
          "text": [
            "Drive already mounted at /content/drive; to attempt to forcibly remount, call drive.mount(\"/content/drive\", force_remount=True).\n"
          ]
        }
      ],
      "source": [
        "from google.colab import drive\n",
        "drive.mount('/content/drive')"
      ]
    },
    {
      "cell_type": "code",
      "source": [
        "%matplotlib inline\n",
        "import matplotlib.pyplot as plt\n",
        "import pandas as pd\n",
        "import numpy as np\n",
        "import nltk\n",
        "import csv\n",
        "import re\n",
        "import string\n",
        "\n",
        "nltk.download('stopwords')\n",
        "from nltk.corpus import stopwords\n",
        "stop_words = set(stopwords.words('english'))\n",
        "\n",
        "nltk.download('wordnet')\n",
        "from nltk.stem import WordNetLemmatizer\n",
        "\n",
        "nltk.download('omw-1.4')\n",
        "\n",
        "! pip install wordcloud\n",
        "from wordcloud import WordCloud\n",
        "from sklearn.model_selection import train_test_split\n",
        "\n",
        "import warnings\n",
        "warnings.filterwarnings('ignore')"
      ],
      "metadata": {
        "colab": {
          "base_uri": "https://localhost:8080/"
        },
        "id": "SlODcmnDfo_d",
        "outputId": "4915229f-a045-4a4f-ed31-219096730bb7"
      },
      "execution_count": 89,
      "outputs": [
        {
          "output_type": "stream",
          "name": "stderr",
          "text": [
            "[nltk_data] Downloading package stopwords to /root/nltk_data...\n",
            "[nltk_data]   Package stopwords is already up-to-date!\n",
            "[nltk_data] Downloading package wordnet to /root/nltk_data...\n",
            "[nltk_data]   Package wordnet is already up-to-date!\n",
            "[nltk_data] Downloading package omw-1.4 to /root/nltk_data...\n",
            "[nltk_data]   Package omw-1.4 is already up-to-date!\n"
          ]
        },
        {
          "output_type": "stream",
          "name": "stdout",
          "text": [
            "Looking in indexes: https://pypi.org/simple, https://us-python.pkg.dev/colab-wheels/public/simple/\n",
            "Requirement already satisfied: wordcloud in /usr/local/lib/python3.8/dist-packages (1.8.2.2)\n",
            "Requirement already satisfied: numpy>=1.6.1 in /usr/local/lib/python3.8/dist-packages (from wordcloud) (1.22.4)\n",
            "Requirement already satisfied: matplotlib in /usr/local/lib/python3.8/dist-packages (from wordcloud) (3.5.3)\n",
            "Requirement already satisfied: pillow in /usr/local/lib/python3.8/dist-packages (from wordcloud) (7.1.2)\n",
            "Requirement already satisfied: packaging>=20.0 in /usr/local/lib/python3.8/dist-packages (from matplotlib->wordcloud) (23.0)\n",
            "Requirement already satisfied: pyparsing>=2.2.1 in /usr/local/lib/python3.8/dist-packages (from matplotlib->wordcloud) (3.0.9)\n",
            "Requirement already satisfied: python-dateutil>=2.7 in /usr/local/lib/python3.8/dist-packages (from matplotlib->wordcloud) (2.8.2)\n",
            "Requirement already satisfied: kiwisolver>=1.0.1 in /usr/local/lib/python3.8/dist-packages (from matplotlib->wordcloud) (1.4.4)\n",
            "Requirement already satisfied: cycler>=0.10 in /usr/local/lib/python3.8/dist-packages (from matplotlib->wordcloud) (0.11.0)\n",
            "Requirement already satisfied: fonttools>=4.22.0 in /usr/local/lib/python3.8/dist-packages (from matplotlib->wordcloud) (4.38.0)\n",
            "Requirement already satisfied: six>=1.5 in /usr/local/lib/python3.8/dist-packages (from python-dateutil>=2.7->matplotlib->wordcloud) (1.15.0)\n"
          ]
        }
      ]
    },
    {
      "cell_type": "code",
      "source": [
        "raw_data = pd.read_csv('/content/drive/MyDrive/smsspamcollection/SMSSpamCollection',sep='\\t',header=None)\n",
        "raw_data.columns=['Label','Text']\n",
        "raw_data.head()"
      ],
      "metadata": {
        "colab": {
          "base_uri": "https://localhost:8080/",
          "height": 206
        },
        "id": "vU3btpqOf-dp",
        "outputId": "03df73a6-c1b0-4016-a635-6ccd3cb5a7cb"
      },
      "execution_count": 90,
      "outputs": [
        {
          "output_type": "execute_result",
          "data": {
            "text/plain": [
              "  Label                                               Text\n",
              "0   ham  Go until jurong point, crazy.. Available only ...\n",
              "1   ham                      Ok lar... Joking wif u oni...\n",
              "2  spam  Free entry in 2 a wkly comp to win FA Cup fina...\n",
              "3   ham  U dun say so early hor... U c already then say...\n",
              "4   ham  Nah I don't think he goes to usf, he lives aro..."
            ],
            "text/html": [
              "\n",
              "  <div id=\"df-be85b5be-6124-406d-97a9-19021842a152\">\n",
              "    <div class=\"colab-df-container\">\n",
              "      <div>\n",
              "<style scoped>\n",
              "    .dataframe tbody tr th:only-of-type {\n",
              "        vertical-align: middle;\n",
              "    }\n",
              "\n",
              "    .dataframe tbody tr th {\n",
              "        vertical-align: top;\n",
              "    }\n",
              "\n",
              "    .dataframe thead th {\n",
              "        text-align: right;\n",
              "    }\n",
              "</style>\n",
              "<table border=\"1\" class=\"dataframe\">\n",
              "  <thead>\n",
              "    <tr style=\"text-align: right;\">\n",
              "      <th></th>\n",
              "      <th>Label</th>\n",
              "      <th>Text</th>\n",
              "    </tr>\n",
              "  </thead>\n",
              "  <tbody>\n",
              "    <tr>\n",
              "      <th>0</th>\n",
              "      <td>ham</td>\n",
              "      <td>Go until jurong point, crazy.. Available only ...</td>\n",
              "    </tr>\n",
              "    <tr>\n",
              "      <th>1</th>\n",
              "      <td>ham</td>\n",
              "      <td>Ok lar... Joking wif u oni...</td>\n",
              "    </tr>\n",
              "    <tr>\n",
              "      <th>2</th>\n",
              "      <td>spam</td>\n",
              "      <td>Free entry in 2 a wkly comp to win FA Cup fina...</td>\n",
              "    </tr>\n",
              "    <tr>\n",
              "      <th>3</th>\n",
              "      <td>ham</td>\n",
              "      <td>U dun say so early hor... U c already then say...</td>\n",
              "    </tr>\n",
              "    <tr>\n",
              "      <th>4</th>\n",
              "      <td>ham</td>\n",
              "      <td>Nah I don't think he goes to usf, he lives aro...</td>\n",
              "    </tr>\n",
              "  </tbody>\n",
              "</table>\n",
              "</div>\n",
              "      <button class=\"colab-df-convert\" onclick=\"convertToInteractive('df-be85b5be-6124-406d-97a9-19021842a152')\"\n",
              "              title=\"Convert this dataframe to an interactive table.\"\n",
              "              style=\"display:none;\">\n",
              "        \n",
              "  <svg xmlns=\"http://www.w3.org/2000/svg\" height=\"24px\"viewBox=\"0 0 24 24\"\n",
              "       width=\"24px\">\n",
              "    <path d=\"M0 0h24v24H0V0z\" fill=\"none\"/>\n",
              "    <path d=\"M18.56 5.44l.94 2.06.94-2.06 2.06-.94-2.06-.94-.94-2.06-.94 2.06-2.06.94zm-11 1L8.5 8.5l.94-2.06 2.06-.94-2.06-.94L8.5 2.5l-.94 2.06-2.06.94zm10 10l.94 2.06.94-2.06 2.06-.94-2.06-.94-.94-2.06-.94 2.06-2.06.94z\"/><path d=\"M17.41 7.96l-1.37-1.37c-.4-.4-.92-.59-1.43-.59-.52 0-1.04.2-1.43.59L10.3 9.45l-7.72 7.72c-.78.78-.78 2.05 0 2.83L4 21.41c.39.39.9.59 1.41.59.51 0 1.02-.2 1.41-.59l7.78-7.78 2.81-2.81c.8-.78.8-2.07 0-2.86zM5.41 20L4 18.59l7.72-7.72 1.47 1.35L5.41 20z\"/>\n",
              "  </svg>\n",
              "      </button>\n",
              "      \n",
              "  <style>\n",
              "    .colab-df-container {\n",
              "      display:flex;\n",
              "      flex-wrap:wrap;\n",
              "      gap: 12px;\n",
              "    }\n",
              "\n",
              "    .colab-df-convert {\n",
              "      background-color: #E8F0FE;\n",
              "      border: none;\n",
              "      border-radius: 50%;\n",
              "      cursor: pointer;\n",
              "      display: none;\n",
              "      fill: #1967D2;\n",
              "      height: 32px;\n",
              "      padding: 0 0 0 0;\n",
              "      width: 32px;\n",
              "    }\n",
              "\n",
              "    .colab-df-convert:hover {\n",
              "      background-color: #E2EBFA;\n",
              "      box-shadow: 0px 1px 2px rgba(60, 64, 67, 0.3), 0px 1px 3px 1px rgba(60, 64, 67, 0.15);\n",
              "      fill: #174EA6;\n",
              "    }\n",
              "\n",
              "    [theme=dark] .colab-df-convert {\n",
              "      background-color: #3B4455;\n",
              "      fill: #D2E3FC;\n",
              "    }\n",
              "\n",
              "    [theme=dark] .colab-df-convert:hover {\n",
              "      background-color: #434B5C;\n",
              "      box-shadow: 0px 1px 3px 1px rgba(0, 0, 0, 0.15);\n",
              "      filter: drop-shadow(0px 1px 2px rgba(0, 0, 0, 0.3));\n",
              "      fill: #FFFFFF;\n",
              "    }\n",
              "  </style>\n",
              "\n",
              "      <script>\n",
              "        const buttonEl =\n",
              "          document.querySelector('#df-be85b5be-6124-406d-97a9-19021842a152 button.colab-df-convert');\n",
              "        buttonEl.style.display =\n",
              "          google.colab.kernel.accessAllowed ? 'block' : 'none';\n",
              "\n",
              "        async function convertToInteractive(key) {\n",
              "          const element = document.querySelector('#df-be85b5be-6124-406d-97a9-19021842a152');\n",
              "          const dataTable =\n",
              "            await google.colab.kernel.invokeFunction('convertToInteractive',\n",
              "                                                     [key], {});\n",
              "          if (!dataTable) return;\n",
              "\n",
              "          const docLinkHtml = 'Like what you see? Visit the ' +\n",
              "            '<a target=\"_blank\" href=https://colab.research.google.com/notebooks/data_table.ipynb>data table notebook</a>'\n",
              "            + ' to learn more about interactive tables.';\n",
              "          element.innerHTML = '';\n",
              "          dataTable['output_type'] = 'display_data';\n",
              "          await google.colab.output.renderOutput(dataTable, element);\n",
              "          const docLink = document.createElement('div');\n",
              "          docLink.innerHTML = docLinkHtml;\n",
              "          element.appendChild(docLink);\n",
              "        }\n",
              "      </script>\n",
              "    </div>\n",
              "  </div>\n",
              "  "
            ]
          },
          "metadata": {},
          "execution_count": 90
        }
      ]
    },
    {
      "cell_type": "code",
      "source": [
        "raw_data.isna().sum()"
      ],
      "metadata": {
        "colab": {
          "base_uri": "https://localhost:8080/"
        },
        "id": "KCmdmqOUgN-l",
        "outputId": "eeebcd6d-e72b-46c4-d835-52691083970d"
      },
      "execution_count": 91,
      "outputs": [
        {
          "output_type": "execute_result",
          "data": {
            "text/plain": [
              "Label    0\n",
              "Text     0\n",
              "dtype: int64"
            ]
          },
          "metadata": {},
          "execution_count": 91
        }
      ]
    },
    {
      "cell_type": "code",
      "source": [
        "raw_data.groupby('Label').describe()"
      ],
      "metadata": {
        "colab": {
          "base_uri": "https://localhost:8080/",
          "height": 175
        },
        "id": "s33j8_-HgPey",
        "outputId": "5e90e71c-3230-49bd-b39f-db0413fda070"
      },
      "execution_count": 92,
      "outputs": [
        {
          "output_type": "execute_result",
          "data": {
            "text/plain": [
              "       Text                                                               \n",
              "      count unique                                                top freq\n",
              "Label                                                                     \n",
              "ham    4825   4516                             Sorry, I'll call later   30\n",
              "spam    747    653  Please call our customer service representativ...    4"
            ],
            "text/html": [
              "\n",
              "  <div id=\"df-759c275d-bfb5-49e0-a1de-beff16b7035d\">\n",
              "    <div class=\"colab-df-container\">\n",
              "      <div>\n",
              "<style scoped>\n",
              "    .dataframe tbody tr th:only-of-type {\n",
              "        vertical-align: middle;\n",
              "    }\n",
              "\n",
              "    .dataframe tbody tr th {\n",
              "        vertical-align: top;\n",
              "    }\n",
              "\n",
              "    .dataframe thead tr th {\n",
              "        text-align: left;\n",
              "    }\n",
              "\n",
              "    .dataframe thead tr:last-of-type th {\n",
              "        text-align: right;\n",
              "    }\n",
              "</style>\n",
              "<table border=\"1\" class=\"dataframe\">\n",
              "  <thead>\n",
              "    <tr>\n",
              "      <th></th>\n",
              "      <th colspan=\"4\" halign=\"left\">Text</th>\n",
              "    </tr>\n",
              "    <tr>\n",
              "      <th></th>\n",
              "      <th>count</th>\n",
              "      <th>unique</th>\n",
              "      <th>top</th>\n",
              "      <th>freq</th>\n",
              "    </tr>\n",
              "    <tr>\n",
              "      <th>Label</th>\n",
              "      <th></th>\n",
              "      <th></th>\n",
              "      <th></th>\n",
              "      <th></th>\n",
              "    </tr>\n",
              "  </thead>\n",
              "  <tbody>\n",
              "    <tr>\n",
              "      <th>ham</th>\n",
              "      <td>4825</td>\n",
              "      <td>4516</td>\n",
              "      <td>Sorry, I'll call later</td>\n",
              "      <td>30</td>\n",
              "    </tr>\n",
              "    <tr>\n",
              "      <th>spam</th>\n",
              "      <td>747</td>\n",
              "      <td>653</td>\n",
              "      <td>Please call our customer service representativ...</td>\n",
              "      <td>4</td>\n",
              "    </tr>\n",
              "  </tbody>\n",
              "</table>\n",
              "</div>\n",
              "      <button class=\"colab-df-convert\" onclick=\"convertToInteractive('df-759c275d-bfb5-49e0-a1de-beff16b7035d')\"\n",
              "              title=\"Convert this dataframe to an interactive table.\"\n",
              "              style=\"display:none;\">\n",
              "        \n",
              "  <svg xmlns=\"http://www.w3.org/2000/svg\" height=\"24px\"viewBox=\"0 0 24 24\"\n",
              "       width=\"24px\">\n",
              "    <path d=\"M0 0h24v24H0V0z\" fill=\"none\"/>\n",
              "    <path d=\"M18.56 5.44l.94 2.06.94-2.06 2.06-.94-2.06-.94-.94-2.06-.94 2.06-2.06.94zm-11 1L8.5 8.5l.94-2.06 2.06-.94-2.06-.94L8.5 2.5l-.94 2.06-2.06.94zm10 10l.94 2.06.94-2.06 2.06-.94-2.06-.94-.94-2.06-.94 2.06-2.06.94z\"/><path d=\"M17.41 7.96l-1.37-1.37c-.4-.4-.92-.59-1.43-.59-.52 0-1.04.2-1.43.59L10.3 9.45l-7.72 7.72c-.78.78-.78 2.05 0 2.83L4 21.41c.39.39.9.59 1.41.59.51 0 1.02-.2 1.41-.59l7.78-7.78 2.81-2.81c.8-.78.8-2.07 0-2.86zM5.41 20L4 18.59l7.72-7.72 1.47 1.35L5.41 20z\"/>\n",
              "  </svg>\n",
              "      </button>\n",
              "      \n",
              "  <style>\n",
              "    .colab-df-container {\n",
              "      display:flex;\n",
              "      flex-wrap:wrap;\n",
              "      gap: 12px;\n",
              "    }\n",
              "\n",
              "    .colab-df-convert {\n",
              "      background-color: #E8F0FE;\n",
              "      border: none;\n",
              "      border-radius: 50%;\n",
              "      cursor: pointer;\n",
              "      display: none;\n",
              "      fill: #1967D2;\n",
              "      height: 32px;\n",
              "      padding: 0 0 0 0;\n",
              "      width: 32px;\n",
              "    }\n",
              "\n",
              "    .colab-df-convert:hover {\n",
              "      background-color: #E2EBFA;\n",
              "      box-shadow: 0px 1px 2px rgba(60, 64, 67, 0.3), 0px 1px 3px 1px rgba(60, 64, 67, 0.15);\n",
              "      fill: #174EA6;\n",
              "    }\n",
              "\n",
              "    [theme=dark] .colab-df-convert {\n",
              "      background-color: #3B4455;\n",
              "      fill: #D2E3FC;\n",
              "    }\n",
              "\n",
              "    [theme=dark] .colab-df-convert:hover {\n",
              "      background-color: #434B5C;\n",
              "      box-shadow: 0px 1px 3px 1px rgba(0, 0, 0, 0.15);\n",
              "      filter: drop-shadow(0px 1px 2px rgba(0, 0, 0, 0.3));\n",
              "      fill: #FFFFFF;\n",
              "    }\n",
              "  </style>\n",
              "\n",
              "      <script>\n",
              "        const buttonEl =\n",
              "          document.querySelector('#df-759c275d-bfb5-49e0-a1de-beff16b7035d button.colab-df-convert');\n",
              "        buttonEl.style.display =\n",
              "          google.colab.kernel.accessAllowed ? 'block' : 'none';\n",
              "\n",
              "        async function convertToInteractive(key) {\n",
              "          const element = document.querySelector('#df-759c275d-bfb5-49e0-a1de-beff16b7035d');\n",
              "          const dataTable =\n",
              "            await google.colab.kernel.invokeFunction('convertToInteractive',\n",
              "                                                     [key], {});\n",
              "          if (!dataTable) return;\n",
              "\n",
              "          const docLinkHtml = 'Like what you see? Visit the ' +\n",
              "            '<a target=\"_blank\" href=https://colab.research.google.com/notebooks/data_table.ipynb>data table notebook</a>'\n",
              "            + ' to learn more about interactive tables.';\n",
              "          element.innerHTML = '';\n",
              "          dataTable['output_type'] = 'display_data';\n",
              "          await google.colab.output.renderOutput(dataTable, element);\n",
              "          const docLink = document.createElement('div');\n",
              "          docLink.innerHTML = docLinkHtml;\n",
              "          element.appendChild(docLink);\n",
              "        }\n",
              "      </script>\n",
              "    </div>\n",
              "  </div>\n",
              "  "
            ]
          },
          "metadata": {},
          "execution_count": 92
        }
      ]
    },
    {
      "cell_type": "code",
      "source": [
        "raw_data.loc[raw_data.Label == 'spam', 'Label'] = 1\n",
        "raw_data.loc[raw_data.Label == 'ham', 'Label'] = 0"
      ],
      "metadata": {
        "id": "uqvHKvKsgUhZ"
      },
      "execution_count": 93,
      "outputs": []
    },
    {
      "cell_type": "code",
      "source": [
        "raw_data.head()"
      ],
      "metadata": {
        "colab": {
          "base_uri": "https://localhost:8080/",
          "height": 206
        },
        "id": "7DH1d9h_gVwl",
        "outputId": "a81aa313-9c36-4354-ae97-65496f3302c3"
      },
      "execution_count": 94,
      "outputs": [
        {
          "output_type": "execute_result",
          "data": {
            "text/plain": [
              "  Label                                               Text\n",
              "0     0  Go until jurong point, crazy.. Available only ...\n",
              "1     0                      Ok lar... Joking wif u oni...\n",
              "2     1  Free entry in 2 a wkly comp to win FA Cup fina...\n",
              "3     0  U dun say so early hor... U c already then say...\n",
              "4     0  Nah I don't think he goes to usf, he lives aro..."
            ],
            "text/html": [
              "\n",
              "  <div id=\"df-83107a8d-424c-47dd-8e58-a50b6f03a330\">\n",
              "    <div class=\"colab-df-container\">\n",
              "      <div>\n",
              "<style scoped>\n",
              "    .dataframe tbody tr th:only-of-type {\n",
              "        vertical-align: middle;\n",
              "    }\n",
              "\n",
              "    .dataframe tbody tr th {\n",
              "        vertical-align: top;\n",
              "    }\n",
              "\n",
              "    .dataframe thead th {\n",
              "        text-align: right;\n",
              "    }\n",
              "</style>\n",
              "<table border=\"1\" class=\"dataframe\">\n",
              "  <thead>\n",
              "    <tr style=\"text-align: right;\">\n",
              "      <th></th>\n",
              "      <th>Label</th>\n",
              "      <th>Text</th>\n",
              "    </tr>\n",
              "  </thead>\n",
              "  <tbody>\n",
              "    <tr>\n",
              "      <th>0</th>\n",
              "      <td>0</td>\n",
              "      <td>Go until jurong point, crazy.. Available only ...</td>\n",
              "    </tr>\n",
              "    <tr>\n",
              "      <th>1</th>\n",
              "      <td>0</td>\n",
              "      <td>Ok lar... Joking wif u oni...</td>\n",
              "    </tr>\n",
              "    <tr>\n",
              "      <th>2</th>\n",
              "      <td>1</td>\n",
              "      <td>Free entry in 2 a wkly comp to win FA Cup fina...</td>\n",
              "    </tr>\n",
              "    <tr>\n",
              "      <th>3</th>\n",
              "      <td>0</td>\n",
              "      <td>U dun say so early hor... U c already then say...</td>\n",
              "    </tr>\n",
              "    <tr>\n",
              "      <th>4</th>\n",
              "      <td>0</td>\n",
              "      <td>Nah I don't think he goes to usf, he lives aro...</td>\n",
              "    </tr>\n",
              "  </tbody>\n",
              "</table>\n",
              "</div>\n",
              "      <button class=\"colab-df-convert\" onclick=\"convertToInteractive('df-83107a8d-424c-47dd-8e58-a50b6f03a330')\"\n",
              "              title=\"Convert this dataframe to an interactive table.\"\n",
              "              style=\"display:none;\">\n",
              "        \n",
              "  <svg xmlns=\"http://www.w3.org/2000/svg\" height=\"24px\"viewBox=\"0 0 24 24\"\n",
              "       width=\"24px\">\n",
              "    <path d=\"M0 0h24v24H0V0z\" fill=\"none\"/>\n",
              "    <path d=\"M18.56 5.44l.94 2.06.94-2.06 2.06-.94-2.06-.94-.94-2.06-.94 2.06-2.06.94zm-11 1L8.5 8.5l.94-2.06 2.06-.94-2.06-.94L8.5 2.5l-.94 2.06-2.06.94zm10 10l.94 2.06.94-2.06 2.06-.94-2.06-.94-.94-2.06-.94 2.06-2.06.94z\"/><path d=\"M17.41 7.96l-1.37-1.37c-.4-.4-.92-.59-1.43-.59-.52 0-1.04.2-1.43.59L10.3 9.45l-7.72 7.72c-.78.78-.78 2.05 0 2.83L4 21.41c.39.39.9.59 1.41.59.51 0 1.02-.2 1.41-.59l7.78-7.78 2.81-2.81c.8-.78.8-2.07 0-2.86zM5.41 20L4 18.59l7.72-7.72 1.47 1.35L5.41 20z\"/>\n",
              "  </svg>\n",
              "      </button>\n",
              "      \n",
              "  <style>\n",
              "    .colab-df-container {\n",
              "      display:flex;\n",
              "      flex-wrap:wrap;\n",
              "      gap: 12px;\n",
              "    }\n",
              "\n",
              "    .colab-df-convert {\n",
              "      background-color: #E8F0FE;\n",
              "      border: none;\n",
              "      border-radius: 50%;\n",
              "      cursor: pointer;\n",
              "      display: none;\n",
              "      fill: #1967D2;\n",
              "      height: 32px;\n",
              "      padding: 0 0 0 0;\n",
              "      width: 32px;\n",
              "    }\n",
              "\n",
              "    .colab-df-convert:hover {\n",
              "      background-color: #E2EBFA;\n",
              "      box-shadow: 0px 1px 2px rgba(60, 64, 67, 0.3), 0px 1px 3px 1px rgba(60, 64, 67, 0.15);\n",
              "      fill: #174EA6;\n",
              "    }\n",
              "\n",
              "    [theme=dark] .colab-df-convert {\n",
              "      background-color: #3B4455;\n",
              "      fill: #D2E3FC;\n",
              "    }\n",
              "\n",
              "    [theme=dark] .colab-df-convert:hover {\n",
              "      background-color: #434B5C;\n",
              "      box-shadow: 0px 1px 3px 1px rgba(0, 0, 0, 0.15);\n",
              "      filter: drop-shadow(0px 1px 2px rgba(0, 0, 0, 0.3));\n",
              "      fill: #FFFFFF;\n",
              "    }\n",
              "  </style>\n",
              "\n",
              "      <script>\n",
              "        const buttonEl =\n",
              "          document.querySelector('#df-83107a8d-424c-47dd-8e58-a50b6f03a330 button.colab-df-convert');\n",
              "        buttonEl.style.display =\n",
              "          google.colab.kernel.accessAllowed ? 'block' : 'none';\n",
              "\n",
              "        async function convertToInteractive(key) {\n",
              "          const element = document.querySelector('#df-83107a8d-424c-47dd-8e58-a50b6f03a330');\n",
              "          const dataTable =\n",
              "            await google.colab.kernel.invokeFunction('convertToInteractive',\n",
              "                                                     [key], {});\n",
              "          if (!dataTable) return;\n",
              "\n",
              "          const docLinkHtml = 'Like what you see? Visit the ' +\n",
              "            '<a target=\"_blank\" href=https://colab.research.google.com/notebooks/data_table.ipynb>data table notebook</a>'\n",
              "            + ' to learn more about interactive tables.';\n",
              "          element.innerHTML = '';\n",
              "          dataTable['output_type'] = 'display_data';\n",
              "          await google.colab.output.renderOutput(dataTable, element);\n",
              "          const docLink = document.createElement('div');\n",
              "          docLink.innerHTML = docLinkHtml;\n",
              "          element.appendChild(docLink);\n",
              "        }\n",
              "      </script>\n",
              "    </div>\n",
              "  </div>\n",
              "  "
            ]
          },
          "metadata": {},
          "execution_count": 94
        }
      ]
    },
    {
      "cell_type": "markdown",
      "source": [
        "**Splitting data into Training, Validation and Test Set and saving them as csv**"
      ],
      "metadata": {
        "id": "k2rOloGsgd-6"
      }
    },
    {
      "cell_type": "code",
      "source": [
        "X_train, X_test, y_train, y_test = train_test_split(raw_data.Text, raw_data['Label'], test_size=0.15, random_state=101)\n",
        "X_train, X_val, y_train, y_val = train_test_split(X_train, y_train, test_size=0.15, random_state=101)"
      ],
      "metadata": {
        "id": "uvMLpZUFgjva"
      },
      "execution_count": 95,
      "outputs": []
    },
    {
      "cell_type": "code",
      "source": [],
      "metadata": {
        "id": "OOpmI95ZGza7"
      },
      "execution_count": null,
      "outputs": []
    },
    {
      "cell_type": "code",
      "source": [
        "## checking the data profile with seed 101\n",
        "print(\"Train set - number of 0s:\", sum(y_train == 0), \"number of 1s:\", sum(y_train == 1))\n",
        "print(\"Validation set - number of 0s:\", sum(y_val == 0), \"number of 1s:\", sum(y_val== 1))\n",
        "print(\"Test set - number of 0s:\", sum(y_test== 0), \"number of 1s:\", sum(y_test== 1))"
      ],
      "metadata": {
        "colab": {
          "base_uri": "https://localhost:8080/"
        },
        "id": "NdutrP96gy4m",
        "outputId": "2e9cab9d-fb45-44da-b273-68ff62ce160a"
      },
      "execution_count": 96,
      "outputs": [
        {
          "output_type": "stream",
          "name": "stdout",
          "text": [
            "Train set - number of 0s: 3479 number of 1s: 546\n",
            "Validation set - number of 0s: 614 number of 1s: 97\n",
            "Test set - number of 0s: 732 number of 1s: 104\n"
          ]
        }
      ]
    },
    {
      "cell_type": "code",
      "source": [
        "df_train = pd.DataFrame(list(zip(X_train,y_train)),columns=[\"Text\",'Label'])\n",
        "df_test = pd.DataFrame(list(zip(X_test,y_test)),columns=[\"Text\",'Label'])\n",
        "df_val = pd.DataFrame(list(zip(X_val,y_val)),columns=[\"Text\",'Label'])\n",
        "df_val.to_csv('data/Validation_Data.csv',index=False) \n",
        "df_test.to_csv('data/Test_Data.csv',index=False) \n",
        "df_train.to_csv('data/Training_Data.csv',index=False)"
      ],
      "metadata": {
        "id": "YfKm0bpsg1pL"
      },
      "execution_count": 97,
      "outputs": []
    },
    {
      "cell_type": "code",
      "source": [
        "raw_data.to_csv('/content/drive/MyDrive/Raw_Data.csv',index=False)"
      ],
      "metadata": {
        "id": "BaLlWARHjEF3"
      },
      "execution_count": 98,
      "outputs": []
    },
    {
      "cell_type": "markdown",
      "source": [
        "**Working with Git and DVC to track data**"
      ],
      "metadata": {
        "id": "JyUlvFqthttH"
      }
    },
    {
      "cell_type": "code",
      "source": [
        "! pip install dvc"
      ],
      "metadata": {
        "colab": {
          "base_uri": "https://localhost:8080/"
        },
        "id": "qBGfM0hQhzwl",
        "outputId": "2a88409b-0b9e-4c48-f8af-f83cd813d0f5"
      },
      "execution_count": 99,
      "outputs": [
        {
          "output_type": "stream",
          "name": "stdout",
          "text": [
            "Looking in indexes: https://pypi.org/simple, https://us-python.pkg.dev/colab-wheels/public/simple/\n",
            "Requirement already satisfied: dvc in /usr/local/lib/python3.8/dist-packages (2.45.1)\n",
            "Requirement already satisfied: hydra-core>=1.1.0 in /usr/local/lib/python3.8/dist-packages (from dvc) (1.3.2)\n",
            "Requirement already satisfied: tabulate>=0.8.7 in /usr/local/lib/python3.8/dist-packages (from dvc) (0.8.10)\n",
            "Requirement already satisfied: pathspec>=0.10.3 in /usr/local/lib/python3.8/dist-packages (from dvc) (0.11.0)\n",
            "Requirement already satisfied: dvc-task==0.1.11 in /usr/local/lib/python3.8/dist-packages (from dvc) (0.1.11)\n",
            "Requirement already satisfied: funcy>=1.14 in /usr/local/lib/python3.8/dist-packages (from dvc) (1.18)\n",
            "Requirement already satisfied: dvc-render>=0.1.2 in /usr/local/lib/python3.8/dist-packages (from dvc) (0.2.0)\n",
            "Requirement already satisfied: requests>=2.22.0 in /usr/local/lib/python3.8/dist-packages (from dvc) (2.25.1)\n",
            "Requirement already satisfied: voluptuous>=0.11.7 in /usr/local/lib/python3.8/dist-packages (from dvc) (0.13.1)\n",
            "Requirement already satisfied: dvc-http in /usr/local/lib/python3.8/dist-packages (from dvc) (2.30.2)\n",
            "Requirement already satisfied: tqdm<5,>=4.63.1 in /usr/local/lib/python3.8/dist-packages (from dvc) (4.64.1)\n",
            "Requirement already satisfied: pygtrie>=2.3.2 in /usr/local/lib/python3.8/dist-packages (from dvc) (2.5.0)\n",
            "Requirement already satisfied: dpath<3,>=2.0.2 in /usr/local/lib/python3.8/dist-packages (from dvc) (2.1.4)\n",
            "Requirement already satisfied: grandalf<1,>=0.7 in /usr/local/lib/python3.8/dist-packages (from dvc) (0.8)\n",
            "Requirement already satisfied: dvc-data==0.40.3 in /usr/local/lib/python3.8/dist-packages (from dvc) (0.40.3)\n",
            "Requirement already satisfied: zc.lockfile>=1.2.1 in /usr/local/lib/python3.8/dist-packages (from dvc) (3.0)\n",
            "Requirement already satisfied: networkx>=2.5 in /usr/local/lib/python3.8/dist-packages (from dvc) (3.0)\n",
            "Requirement already satisfied: scmrepo==0.1.11 in /usr/local/lib/python3.8/dist-packages (from dvc) (0.1.11)\n",
            "Requirement already satisfied: tomlkit>=0.11.1 in /usr/local/lib/python3.8/dist-packages (from dvc) (0.11.6)\n",
            "Requirement already satisfied: packaging>=19.0 in /usr/local/lib/python3.8/dist-packages (from dvc) (23.0)\n",
            "Requirement already satisfied: iterative-telemetry==0.0.7 in /usr/local/lib/python3.8/dist-packages (from dvc) (0.0.7)\n",
            "Requirement already satisfied: psutil>=5.8.0 in /usr/local/lib/python3.8/dist-packages (from dvc) (5.9.4)\n",
            "Requirement already satisfied: distro>=1.3.0 in /usr/local/lib/python3.8/dist-packages (from dvc) (1.8.0)\n",
            "Requirement already satisfied: appdirs>=1.4.3 in /usr/local/lib/python3.8/dist-packages (from dvc) (1.4.4)\n",
            "Requirement already satisfied: typing-extensions>=3.7.4 in /usr/local/lib/python3.8/dist-packages (from dvc) (4.5.0)\n",
            "Requirement already satisfied: ruamel.yaml>=0.17.11 in /usr/local/lib/python3.8/dist-packages (from dvc) (0.17.21)\n",
            "Requirement already satisfied: pydot>=1.2.4 in /usr/local/lib/python3.8/dist-packages (from dvc) (1.3.0)\n",
            "Requirement already satisfied: configobj>=5.0.6 in /usr/local/lib/python3.8/dist-packages (from dvc) (5.0.8)\n",
            "Requirement already satisfied: shortuuid>=0.5.0 in /usr/local/lib/python3.8/dist-packages (from dvc) (1.0.11)\n",
            "Requirement already satisfied: flufl.lock>=5 in /usr/local/lib/python3.8/dist-packages (from dvc) (7.1.1)\n",
            "Requirement already satisfied: flatten-dict<1,>=0.4.1 in /usr/local/lib/python3.8/dist-packages (from dvc) (0.4.2)\n",
            "Requirement already satisfied: dvc-studio-client>=0.1.1 in /usr/local/lib/python3.8/dist-packages (from dvc) (0.5.1)\n",
            "Requirement already satisfied: shtab<2,>=1.3.4 in /usr/local/lib/python3.8/dist-packages (from dvc) (1.5.8)\n",
            "Requirement already satisfied: rich>=12.0.0 in /usr/local/lib/python3.8/dist-packages (from dvc) (13.3.1)\n",
            "Requirement already satisfied: importlib-resources>=5.2.2 in /usr/local/lib/python3.8/dist-packages (from dvc) (5.12.0)\n",
            "Requirement already satisfied: pyparsing>=2.4.7 in /usr/local/lib/python3.8/dist-packages (from dvc) (3.0.9)\n",
            "Requirement already satisfied: dvclive>=1.2.2 in /usr/local/lib/python3.8/dist-packages (from dvc) (2.1.0)\n",
            "Requirement already satisfied: colorama>=0.3.9 in /usr/local/lib/python3.8/dist-packages (from dvc) (0.4.6)\n",
            "Requirement already satisfied: dvc-objects==0.19.3 in /usr/local/lib/python3.8/dist-packages (from dvc-data==0.40.3->dvc) (0.19.3)\n",
            "Requirement already satisfied: sqltrie==0.0.28 in /usr/local/lib/python3.8/dist-packages (from dvc-data==0.40.3->dvc) (0.0.28)\n",
            "Requirement already satisfied: diskcache>=5.2.1 in /usr/local/lib/python3.8/dist-packages (from dvc-data==0.40.3->dvc) (5.4.0)\n",
            "Requirement already satisfied: attrs>=21.3.0 in /usr/local/lib/python3.8/dist-packages (from dvc-data==0.40.3->dvc) (22.2.0)\n",
            "Requirement already satisfied: nanotime>=0.5.2 in /usr/local/lib/python3.8/dist-packages (from dvc-data==0.40.3->dvc) (0.5.2)\n",
            "Requirement already satisfied: dictdiffer>=0.8.1 in /usr/local/lib/python3.8/dist-packages (from dvc-data==0.40.3->dvc) (0.9.0)\n",
            "Requirement already satisfied: kombu<6,>=5.2.0 in /usr/local/lib/python3.8/dist-packages (from dvc-task==0.1.11->dvc) (5.2.4)\n",
            "Requirement already satisfied: celery<6,>=5.2.0 in /usr/local/lib/python3.8/dist-packages (from dvc-task==0.1.11->dvc) (5.2.7)\n",
            "Requirement already satisfied: filelock in /usr/local/lib/python3.8/dist-packages (from iterative-telemetry==0.0.7->dvc) (3.9.0)\n",
            "Requirement already satisfied: fsspec>=2021.7.0 in /usr/local/lib/python3.8/dist-packages (from scmrepo==0.1.11->dvc) (2023.1.0)\n",
            "Requirement already satisfied: pygit2>=1.10.0 in /usr/local/lib/python3.8/dist-packages (from scmrepo==0.1.11->dvc) (1.11.1)\n",
            "Requirement already satisfied: dulwich>=0.20.49 in /usr/local/lib/python3.8/dist-packages (from scmrepo==0.1.11->dvc) (0.21.3)\n",
            "Requirement already satisfied: gitpython>3 in /usr/local/lib/python3.8/dist-packages (from scmrepo==0.1.11->dvc) (3.1.31)\n",
            "Requirement already satisfied: asyncssh<3,>=2.7.1 in /usr/local/lib/python3.8/dist-packages (from scmrepo==0.1.11->dvc) (2.13.1)\n",
            "Requirement already satisfied: orjson in /usr/local/lib/python3.8/dist-packages (from sqltrie==0.0.28->dvc-data==0.40.3->dvc) (3.8.6)\n",
            "Requirement already satisfied: six in /usr/local/lib/python3.8/dist-packages (from configobj>=5.0.6->dvc) (1.15.0)\n",
            "Requirement already satisfied: atpublic>=2.3 in /usr/local/lib/python3.8/dist-packages (from flufl.lock>=5->dvc) (3.1.1)\n",
            "Requirement already satisfied: antlr4-python3-runtime==4.9.* in /usr/local/lib/python3.8/dist-packages (from hydra-core>=1.1.0->dvc) (4.9.3)\n",
            "Requirement already satisfied: omegaconf<2.4,>=2.2 in /usr/local/lib/python3.8/dist-packages (from hydra-core>=1.1.0->dvc) (2.3.0)\n",
            "Requirement already satisfied: zipp>=3.1.0 in /usr/local/lib/python3.8/dist-packages (from importlib-resources>=5.2.2->dvc) (3.14.0)\n",
            "Requirement already satisfied: certifi>=2017.4.17 in /usr/local/lib/python3.8/dist-packages (from requests>=2.22.0->dvc) (2022.12.7)\n",
            "Requirement already satisfied: idna<3,>=2.5 in /usr/local/lib/python3.8/dist-packages (from requests>=2.22.0->dvc) (2.10)\n",
            "Requirement already satisfied: chardet<5,>=3.0.2 in /usr/local/lib/python3.8/dist-packages (from requests>=2.22.0->dvc) (4.0.0)\n",
            "Requirement already satisfied: urllib3<1.27,>=1.21.1 in /usr/local/lib/python3.8/dist-packages (from requests>=2.22.0->dvc) (1.26.14)\n",
            "Requirement already satisfied: markdown-it-py<3.0.0,>=2.1.0 in /usr/local/lib/python3.8/dist-packages (from rich>=12.0.0->dvc) (2.2.0)\n",
            "Requirement already satisfied: pygments<3.0.0,>=2.14.0 in /usr/local/lib/python3.8/dist-packages (from rich>=12.0.0->dvc) (2.14.0)\n",
            "Requirement already satisfied: ruamel.yaml.clib>=0.2.6 in /usr/local/lib/python3.8/dist-packages (from ruamel.yaml>=0.17.11->dvc) (0.2.7)\n",
            "Requirement already satisfied: setuptools in /usr/local/lib/python3.8/dist-packages (from zc.lockfile>=1.2.1->dvc) (57.4.0)\n",
            "Requirement already satisfied: aiohttp-retry>=2.5.0 in /usr/local/lib/python3.8/dist-packages (from dvc-http->dvc) (2.8.3)\n",
            "Requirement already satisfied: aiohttp in /usr/local/lib/python3.8/dist-packages (from aiohttp-retry>=2.5.0->dvc-http->dvc) (3.8.4)\n",
            "Requirement already satisfied: cryptography>=3.1 in /usr/local/lib/python3.8/dist-packages (from asyncssh<3,>=2.7.1->scmrepo==0.1.11->dvc) (39.0.1)\n",
            "Requirement already satisfied: billiard<4.0,>=3.6.4.0 in /usr/local/lib/python3.8/dist-packages (from celery<6,>=5.2.0->dvc-task==0.1.11->dvc) (3.6.4.0)\n",
            "Requirement already satisfied: click-didyoumean>=0.0.3 in /usr/local/lib/python3.8/dist-packages (from celery<6,>=5.2.0->dvc-task==0.1.11->dvc) (0.3.0)\n",
            "Requirement already satisfied: vine<6.0,>=5.0.0 in /usr/local/lib/python3.8/dist-packages (from celery<6,>=5.2.0->dvc-task==0.1.11->dvc) (5.0.0)\n",
            "Requirement already satisfied: click-plugins>=1.1.1 in /usr/local/lib/python3.8/dist-packages (from celery<6,>=5.2.0->dvc-task==0.1.11->dvc) (1.1.1)\n",
            "Requirement already satisfied: click<9.0,>=8.0.3 in /usr/local/lib/python3.8/dist-packages (from celery<6,>=5.2.0->dvc-task==0.1.11->dvc) (8.1.3)\n",
            "Requirement already satisfied: pytz>=2021.3 in /usr/local/lib/python3.8/dist-packages (from celery<6,>=5.2.0->dvc-task==0.1.11->dvc) (2022.7.1)\n",
            "Requirement already satisfied: click-repl>=0.2.0 in /usr/local/lib/python3.8/dist-packages (from celery<6,>=5.2.0->dvc-task==0.1.11->dvc) (0.2.0)\n",
            "Requirement already satisfied: gitdb<5,>=4.0.1 in /usr/local/lib/python3.8/dist-packages (from gitpython>3->scmrepo==0.1.11->dvc) (4.0.10)\n",
            "Requirement already satisfied: amqp<6.0.0,>=5.0.9 in /usr/local/lib/python3.8/dist-packages (from kombu<6,>=5.2.0->dvc-task==0.1.11->dvc) (5.1.1)\n",
            "Requirement already satisfied: mdurl~=0.1 in /usr/local/lib/python3.8/dist-packages (from markdown-it-py<3.0.0,>=2.1.0->rich>=12.0.0->dvc) (0.1.2)\n",
            "Requirement already satisfied: PyYAML>=5.1.0 in /usr/local/lib/python3.8/dist-packages (from omegaconf<2.4,>=2.2->hydra-core>=1.1.0->dvc) (6.0)\n",
            "Requirement already satisfied: cffi>=1.9.1 in /usr/local/lib/python3.8/dist-packages (from pygit2>=1.10.0->scmrepo==0.1.11->dvc) (1.15.1)\n",
            "Requirement already satisfied: aiosignal>=1.1.2 in /usr/local/lib/python3.8/dist-packages (from aiohttp->aiohttp-retry>=2.5.0->dvc-http->dvc) (1.3.1)\n",
            "Requirement already satisfied: multidict<7.0,>=4.5 in /usr/local/lib/python3.8/dist-packages (from aiohttp->aiohttp-retry>=2.5.0->dvc-http->dvc) (6.0.4)\n",
            "Requirement already satisfied: async-timeout<5.0,>=4.0.0a3 in /usr/local/lib/python3.8/dist-packages (from aiohttp->aiohttp-retry>=2.5.0->dvc-http->dvc) (4.0.2)\n",
            "Requirement already satisfied: frozenlist>=1.1.1 in /usr/local/lib/python3.8/dist-packages (from aiohttp->aiohttp-retry>=2.5.0->dvc-http->dvc) (1.3.3)\n",
            "Requirement already satisfied: yarl<2.0,>=1.0 in /usr/local/lib/python3.8/dist-packages (from aiohttp->aiohttp-retry>=2.5.0->dvc-http->dvc) (1.8.2)\n",
            "Requirement already satisfied: charset-normalizer<4.0,>=2.0 in /usr/local/lib/python3.8/dist-packages (from aiohttp->aiohttp-retry>=2.5.0->dvc-http->dvc) (3.0.1)\n",
            "Requirement already satisfied: pycparser in /usr/local/lib/python3.8/dist-packages (from cffi>=1.9.1->pygit2>=1.10.0->scmrepo==0.1.11->dvc) (2.21)\n",
            "Requirement already satisfied: prompt-toolkit in /usr/local/lib/python3.8/dist-packages (from click-repl>=0.2.0->celery<6,>=5.2.0->dvc-task==0.1.11->dvc) (2.0.10)\n",
            "Requirement already satisfied: smmap<6,>=3.0.1 in /usr/local/lib/python3.8/dist-packages (from gitdb<5,>=4.0.1->gitpython>3->scmrepo==0.1.11->dvc) (5.0.0)\n",
            "Requirement already satisfied: wcwidth in /usr/local/lib/python3.8/dist-packages (from prompt-toolkit->click-repl>=0.2.0->celery<6,>=5.2.0->dvc-task==0.1.11->dvc) (0.2.6)\n"
          ]
        }
      ]
    },
    {
      "cell_type": "code",
      "source": [
        "! git init"
      ],
      "metadata": {
        "colab": {
          "base_uri": "https://localhost:8080/"
        },
        "id": "x9eNRPEjiL8T",
        "outputId": "213dcb81-9bed-425d-df2a-1687ab849abb"
      },
      "execution_count": 100,
      "outputs": [
        {
          "output_type": "stream",
          "name": "stdout",
          "text": [
            "Reinitialized existing Git repository in /content/.git/\n"
          ]
        }
      ]
    },
    {
      "cell_type": "code",
      "source": [
        "#! dvc init"
      ],
      "metadata": {
        "colab": {
          "base_uri": "https://localhost:8080/"
        },
        "id": "AOdHSsGkqlAQ",
        "outputId": "1f36f0d1-843d-4603-b38a-8f68a6f1b0e0"
      },
      "execution_count": 102,
      "outputs": [
        {
          "output_type": "stream",
          "name": "stdout",
          "text": [
            "\u001b[31mERROR\u001b[39m: failed to initiate DVC - '.dvc' exists. Use `-f` to force.\n",
            "\u001b[0m"
          ]
        }
      ]
    },
    {
      "cell_type": "code",
      "source": [
        "!dvc add data"
      ],
      "metadata": {
        "colab": {
          "base_uri": "https://localhost:8080/"
        },
        "id": "0VD9O78Hiaak",
        "outputId": "3a73cbc7-9573-46c0-87ca-232ad679aca6"
      },
      "execution_count": 103,
      "outputs": [
        {
          "output_type": "stream",
          "name": "stdout",
          "text": [
            "\r!\rIf DVC froze, see `hardlink_lock` in <\u001b[36mhttps://man.dvc.org/config#core\u001b[39m>\r                                                                      \r\r!\rCollecting targets          |0.00 [00:00,     ?file/s]\r                                                      \r\u001b[?25l\u001b[32m⠋\u001b[0m Checking graph\r\u001b[2K\u001b[32m⠋\u001b[0m Checking graph\n",
            "\u001b[?25h\r\u001b[1A\u001b[2K\rAdding...:   0% 0/1 [00:00<?, ?file/s]\rAdding...:   0% 0/1 [00:00<?, ?file/s{'info': ''}]\rAdding...:   0% 0/1 [00:00<?, ?file/s{'info': ''}]\n",
            "\r!\u001b[A\n",
            "\rBuilding data objects from data          |0.00 [00:00,      ?obj/s]\u001b[A\n",
            "\r                                                                   \u001b[A\n",
            "\r!\u001b[A\n",
            "\rBuilding data objects from data          |0.00 [00:00,      ?obj/s]\u001b[A\n",
            "\r                                                                   \u001b[A\n",
            "\r!\u001b[A\n",
            "\r  0% |          |0/? [00:00<?,    ?files/s]\u001b[A\n",
            "\r                                           \u001b[A\n",
            "\r!\u001b[A\n",
            "\rBuilding data objects from data          |0.00 [00:00,      ?obj/s]\u001b[A\n",
            "\r                                                                   \u001b[A\rAdding...: 100% 1/1 [00:00<00:00, 19.78file/s{'info': ''}]\n",
            "\u001b[0m"
          ]
        }
      ]
    },
    {
      "cell_type": "code",
      "source": [
        "! git add data.dvc"
      ],
      "metadata": {
        "id": "8PkE9g-CjorC"
      },
      "execution_count": 104,
      "outputs": []
    },
    {
      "cell_type": "code",
      "source": [
        " ! git config --global user.email \"ayush.srivastava.mnnit@gmail.com\""
      ],
      "metadata": {
        "id": "m5s3u0E0Eetc"
      },
      "execution_count": 106,
      "outputs": []
    },
    {
      "cell_type": "code",
      "source": [
        "! git config --global user.name \"Ayush Srivastava\""
      ],
      "metadata": {
        "id": "bmEk3X20EtIB"
      },
      "execution_count": 108,
      "outputs": []
    },
    {
      "cell_type": "code",
      "source": [
        "! git commit -m \"Seed Changes to 105\""
      ],
      "metadata": {
        "colab": {
          "base_uri": "https://localhost:8080/"
        },
        "id": "MEfVo_VqrGGt",
        "outputId": "b65fe86c-818a-4e23-83cb-651aa9102000"
      },
      "execution_count": 109,
      "outputs": [
        {
          "output_type": "stream",
          "name": "stdout",
          "text": [
            "[master (root-commit) 0add420] Seed Changes to 105\n",
            " 4 files changed, 11 insertions(+)\n",
            " create mode 100644 .dvc/.gitignore\n",
            " create mode 100644 .dvc/config\n",
            " create mode 100644 .dvcignore\n",
            " create mode 100644 data.dvc\n"
          ]
        }
      ]
    },
    {
      "cell_type": "code",
      "source": [
        "#!dvc config core.autostage true"
      ],
      "metadata": {
        "colab": {
          "base_uri": "https://localhost:8080/"
        },
        "id": "WQfVV_a5rPvY",
        "outputId": "39c58aed-fc84-4c13-ace2-d8e336d29ac7"
      },
      "execution_count": 70,
      "outputs": [
        {
          "output_type": "stream",
          "name": "stdout",
          "text": [
            "\u001b[0m"
          ]
        }
      ]
    },
    {
      "cell_type": "markdown",
      "source": [
        "**Adding google drive folder as a remote data storage**"
      ],
      "metadata": {
        "id": "7uYjoPD6s_5o"
      }
    },
    {
      "cell_type": "code",
      "source": [
        "#!dvc remote add --default myremote gdrive://1MKDgCZxNyYrFNLhGYNIfOK8mQpD1rpmr"
      ],
      "metadata": {
        "colab": {
          "base_uri": "https://localhost:8080/"
        },
        "id": "hXkb2iEMsZoj",
        "outputId": "dd024290-b215-4180-e6b9-87f74bf60dc2"
      },
      "execution_count": 72,
      "outputs": [
        {
          "output_type": "stream",
          "name": "stdout",
          "text": [
            "Setting 'myremote' as a default remote.\n",
            "\u001b[0m"
          ]
        }
      ]
    },
    {
      "cell_type": "code",
      "source": [
        "#!dvc remote modify myremote gdrive_acknowledge_abuse true"
      ],
      "metadata": {
        "colab": {
          "base_uri": "https://localhost:8080/"
        },
        "id": "agV3h7CjsyXz",
        "outputId": "b3cc7f01-75db-4ca7-9276-c277f1d04fcf"
      },
      "execution_count": 73,
      "outputs": [
        {
          "output_type": "stream",
          "name": "stdout",
          "text": [
            "\u001b[0m"
          ]
        }
      ]
    },
    {
      "cell_type": "markdown",
      "source": [
        "Pushing dvc tracked files to remote storage\n"
      ],
      "metadata": {
        "id": "b_Lvg3JptPiL"
      }
    },
    {
      "cell_type": "code",
      "source": [
        "#!dvc push"
      ],
      "metadata": {
        "colab": {
          "base_uri": "https://localhost:8080/"
        },
        "id": "lGJuvSYQtQ3H",
        "outputId": "eb9bcef9-1ab3-47f7-c261-40de5a3a6145"
      },
      "execution_count": 74,
      "outputs": [
        {
          "output_type": "stream",
          "name": "stdout",
          "text": [
            "\r!\rIf DVC froze, see `hardlink_lock` in <\u001b[36mhttps://man.dvc.org/config#core\u001b[39m>\r                                                                      \r\u001b[31mERROR\u001b[39m: unexpected error - gdrive is supported, but requires 'dvc-gdrive' to be installed: No module named 'dvc_gdrive'\n",
            "\n",
            "\u001b[33mHaving any troubles?\u001b[0m Hit us up at \u001b[34mhttps://dvc.org/support\u001b[0m, we are always happy to help!\n",
            "\u001b[0m"
          ]
        }
      ]
    },
    {
      "cell_type": "code",
      "source": [
        "!pip install dvc-gdrive"
      ],
      "metadata": {
        "colab": {
          "base_uri": "https://localhost:8080/"
        },
        "id": "sebN8RIDtZTC",
        "outputId": "7c5f37f8-ba38-46f6-b83c-cb4c28def522"
      },
      "execution_count": 75,
      "outputs": [
        {
          "output_type": "stream",
          "name": "stdout",
          "text": [
            "Looking in indexes: https://pypi.org/simple, https://us-python.pkg.dev/colab-wheels/public/simple/\n",
            "Collecting dvc-gdrive\n",
            "  Downloading dvc_gdrive-2.19.1-py3-none-any.whl (11 kB)\n",
            "Collecting pydrive2[fsspec]>=1.15.0\n",
            "  Downloading PyDrive2-1.15.1-py3-none-any.whl (44 kB)\n",
            "\u001b[2K     \u001b[90m━━━━━━━━━━━━━━━━━━━━━━━━━━━━━━━━━━━━━━━━\u001b[0m \u001b[32m44.6/44.6 KB\u001b[0m \u001b[31m5.0 MB/s\u001b[0m eta \u001b[36m0:00:00\u001b[0m\n",
            "\u001b[?25hRequirement already satisfied: dvc in /usr/local/lib/python3.8/dist-packages (from dvc-gdrive) (2.45.1)\n",
            "Requirement already satisfied: PyYAML>=3.0 in /usr/local/lib/python3.8/dist-packages (from pydrive2[fsspec]>=1.15.0->dvc-gdrive) (6.0)\n",
            "Requirement already satisfied: google-api-python-client>=1.12.5 in /usr/local/lib/python3.8/dist-packages (from pydrive2[fsspec]>=1.15.0->dvc-gdrive) (2.70.0)\n",
            "Requirement already satisfied: oauth2client>=4.0.0 in /usr/local/lib/python3.8/dist-packages (from pydrive2[fsspec]>=1.15.0->dvc-gdrive) (4.1.3)\n",
            "Collecting pyOpenSSL>=19.1.0\n",
            "  Downloading pyOpenSSL-23.0.0-py3-none-any.whl (57 kB)\n",
            "\u001b[2K     \u001b[90m━━━━━━━━━━━━━━━━━━━━━━━━━━━━━━━━━━━━━━━━\u001b[0m \u001b[32m57.3/57.3 KB\u001b[0m \u001b[31m8.0 MB/s\u001b[0m eta \u001b[36m0:00:00\u001b[0m\n",
            "\u001b[?25hRequirement already satisfied: fsspec>=2021.07.0 in /usr/local/lib/python3.8/dist-packages (from pydrive2[fsspec]>=1.15.0->dvc-gdrive) (2023.1.0)\n",
            "Requirement already satisfied: tqdm>=4.0.0 in /usr/local/lib/python3.8/dist-packages (from pydrive2[fsspec]>=1.15.0->dvc-gdrive) (4.64.1)\n",
            "Requirement already satisfied: appdirs>=1.4.3 in /usr/local/lib/python3.8/dist-packages (from pydrive2[fsspec]>=1.15.0->dvc-gdrive) (1.4.4)\n",
            "Requirement already satisfied: funcy>=1.14 in /usr/local/lib/python3.8/dist-packages (from pydrive2[fsspec]>=1.15.0->dvc-gdrive) (1.18)\n",
            "Requirement already satisfied: flufl.lock>=5 in /usr/local/lib/python3.8/dist-packages (from dvc->dvc-gdrive) (7.1.1)\n",
            "Requirement already satisfied: tomlkit>=0.11.1 in /usr/local/lib/python3.8/dist-packages (from dvc->dvc-gdrive) (0.11.6)\n",
            "Requirement already satisfied: packaging>=19.0 in /usr/local/lib/python3.8/dist-packages (from dvc->dvc-gdrive) (23.0)\n",
            "Requirement already satisfied: rich>=12.0.0 in /usr/local/lib/python3.8/dist-packages (from dvc->dvc-gdrive) (13.3.1)\n",
            "Requirement already satisfied: pathspec>=0.10.3 in /usr/local/lib/python3.8/dist-packages (from dvc->dvc-gdrive) (0.11.0)\n",
            "Requirement already satisfied: shortuuid>=0.5.0 in /usr/local/lib/python3.8/dist-packages (from dvc->dvc-gdrive) (1.0.11)\n",
            "Requirement already satisfied: dvc-render>=0.1.2 in /usr/local/lib/python3.8/dist-packages (from dvc->dvc-gdrive) (0.2.0)\n",
            "Requirement already satisfied: dvc-data==0.40.3 in /usr/local/lib/python3.8/dist-packages (from dvc->dvc-gdrive) (0.40.3)\n",
            "Requirement already satisfied: shtab<2,>=1.3.4 in /usr/local/lib/python3.8/dist-packages (from dvc->dvc-gdrive) (1.5.8)\n",
            "Requirement already satisfied: dvc-task==0.1.11 in /usr/local/lib/python3.8/dist-packages (from dvc->dvc-gdrive) (0.1.11)\n",
            "Requirement already satisfied: scmrepo==0.1.11 in /usr/local/lib/python3.8/dist-packages (from dvc->dvc-gdrive) (0.1.11)\n",
            "Requirement already satisfied: ruamel.yaml>=0.17.11 in /usr/local/lib/python3.8/dist-packages (from dvc->dvc-gdrive) (0.17.21)\n",
            "Requirement already satisfied: requests>=2.22.0 in /usr/local/lib/python3.8/dist-packages (from dvc->dvc-gdrive) (2.25.1)\n",
            "Requirement already satisfied: iterative-telemetry==0.0.7 in /usr/local/lib/python3.8/dist-packages (from dvc->dvc-gdrive) (0.0.7)\n",
            "Requirement already satisfied: dvclive>=1.2.2 in /usr/local/lib/python3.8/dist-packages (from dvc->dvc-gdrive) (2.1.0)\n",
            "Requirement already satisfied: distro>=1.3.0 in /usr/local/lib/python3.8/dist-packages (from dvc->dvc-gdrive) (1.8.0)\n",
            "Requirement already satisfied: flatten-dict<1,>=0.4.1 in /usr/local/lib/python3.8/dist-packages (from dvc->dvc-gdrive) (0.4.2)\n",
            "Requirement already satisfied: networkx>=2.5 in /usr/local/lib/python3.8/dist-packages (from dvc->dvc-gdrive) (3.0)\n",
            "Requirement already satisfied: psutil>=5.8.0 in /usr/local/lib/python3.8/dist-packages (from dvc->dvc-gdrive) (5.9.4)\n",
            "Requirement already satisfied: pyparsing>=2.4.7 in /usr/local/lib/python3.8/dist-packages (from dvc->dvc-gdrive) (3.0.9)\n",
            "Requirement already satisfied: configobj>=5.0.6 in /usr/local/lib/python3.8/dist-packages (from dvc->dvc-gdrive) (5.0.8)\n",
            "Requirement already satisfied: dpath<3,>=2.0.2 in /usr/local/lib/python3.8/dist-packages (from dvc->dvc-gdrive) (2.1.4)\n",
            "Requirement already satisfied: grandalf<1,>=0.7 in /usr/local/lib/python3.8/dist-packages (from dvc->dvc-gdrive) (0.8)\n",
            "Requirement already satisfied: tabulate>=0.8.7 in /usr/local/lib/python3.8/dist-packages (from dvc->dvc-gdrive) (0.8.10)\n",
            "Requirement already satisfied: zc.lockfile>=1.2.1 in /usr/local/lib/python3.8/dist-packages (from dvc->dvc-gdrive) (3.0)\n",
            "Requirement already satisfied: colorama>=0.3.9 in /usr/local/lib/python3.8/dist-packages (from dvc->dvc-gdrive) (0.4.6)\n",
            "Requirement already satisfied: pygtrie>=2.3.2 in /usr/local/lib/python3.8/dist-packages (from dvc->dvc-gdrive) (2.5.0)\n",
            "Requirement already satisfied: dvc-http in /usr/local/lib/python3.8/dist-packages (from dvc->dvc-gdrive) (2.30.2)\n",
            "Requirement already satisfied: importlib-resources>=5.2.2 in /usr/local/lib/python3.8/dist-packages (from dvc->dvc-gdrive) (5.12.0)\n",
            "Requirement already satisfied: dvc-studio-client>=0.1.1 in /usr/local/lib/python3.8/dist-packages (from dvc->dvc-gdrive) (0.5.1)\n",
            "Requirement already satisfied: voluptuous>=0.11.7 in /usr/local/lib/python3.8/dist-packages (from dvc->dvc-gdrive) (0.13.1)\n",
            "Requirement already satisfied: hydra-core>=1.1.0 in /usr/local/lib/python3.8/dist-packages (from dvc->dvc-gdrive) (1.3.2)\n",
            "Requirement already satisfied: typing-extensions>=3.7.4 in /usr/local/lib/python3.8/dist-packages (from dvc->dvc-gdrive) (4.5.0)\n",
            "Requirement already satisfied: pydot>=1.2.4 in /usr/local/lib/python3.8/dist-packages (from dvc->dvc-gdrive) (1.3.0)\n",
            "Requirement already satisfied: dictdiffer>=0.8.1 in /usr/local/lib/python3.8/dist-packages (from dvc-data==0.40.3->dvc->dvc-gdrive) (0.9.0)\n",
            "Requirement already satisfied: sqltrie==0.0.28 in /usr/local/lib/python3.8/dist-packages (from dvc-data==0.40.3->dvc->dvc-gdrive) (0.0.28)\n",
            "Requirement already satisfied: nanotime>=0.5.2 in /usr/local/lib/python3.8/dist-packages (from dvc-data==0.40.3->dvc->dvc-gdrive) (0.5.2)\n",
            "Requirement already satisfied: dvc-objects==0.19.3 in /usr/local/lib/python3.8/dist-packages (from dvc-data==0.40.3->dvc->dvc-gdrive) (0.19.3)\n",
            "Requirement already satisfied: diskcache>=5.2.1 in /usr/local/lib/python3.8/dist-packages (from dvc-data==0.40.3->dvc->dvc-gdrive) (5.4.0)\n",
            "Requirement already satisfied: attrs>=21.3.0 in /usr/local/lib/python3.8/dist-packages (from dvc-data==0.40.3->dvc->dvc-gdrive) (22.2.0)\n",
            "Requirement already satisfied: kombu<6,>=5.2.0 in /usr/local/lib/python3.8/dist-packages (from dvc-task==0.1.11->dvc->dvc-gdrive) (5.2.4)\n",
            "Requirement already satisfied: celery<6,>=5.2.0 in /usr/local/lib/python3.8/dist-packages (from dvc-task==0.1.11->dvc->dvc-gdrive) (5.2.7)\n",
            "Requirement already satisfied: filelock in /usr/local/lib/python3.8/dist-packages (from iterative-telemetry==0.0.7->dvc->dvc-gdrive) (3.9.0)\n",
            "Requirement already satisfied: gitpython>3 in /usr/local/lib/python3.8/dist-packages (from scmrepo==0.1.11->dvc->dvc-gdrive) (3.1.31)\n",
            "Requirement already satisfied: asyncssh<3,>=2.7.1 in /usr/local/lib/python3.8/dist-packages (from scmrepo==0.1.11->dvc->dvc-gdrive) (2.13.1)\n",
            "Requirement already satisfied: dulwich>=0.20.49 in /usr/local/lib/python3.8/dist-packages (from scmrepo==0.1.11->dvc->dvc-gdrive) (0.21.3)\n",
            "Requirement already satisfied: pygit2>=1.10.0 in /usr/local/lib/python3.8/dist-packages (from scmrepo==0.1.11->dvc->dvc-gdrive) (1.11.1)\n",
            "Requirement already satisfied: orjson in /usr/local/lib/python3.8/dist-packages (from sqltrie==0.0.28->dvc-data==0.40.3->dvc->dvc-gdrive) (3.8.6)\n",
            "Requirement already satisfied: six in /usr/local/lib/python3.8/dist-packages (from configobj>=5.0.6->dvc->dvc-gdrive) (1.15.0)\n",
            "Requirement already satisfied: atpublic>=2.3 in /usr/local/lib/python3.8/dist-packages (from flufl.lock>=5->dvc->dvc-gdrive) (3.1.1)\n",
            "Requirement already satisfied: google-auth<3.0.0dev,>=1.19.0 in /usr/local/lib/python3.8/dist-packages (from google-api-python-client>=1.12.5->pydrive2[fsspec]>=1.15.0->dvc-gdrive) (2.16.1)\n",
            "Requirement already satisfied: google-auth-httplib2>=0.1.0 in /usr/local/lib/python3.8/dist-packages (from google-api-python-client>=1.12.5->pydrive2[fsspec]>=1.15.0->dvc-gdrive) (0.1.0)\n",
            "Requirement already satisfied: uritemplate<5,>=3.0.1 in /usr/local/lib/python3.8/dist-packages (from google-api-python-client>=1.12.5->pydrive2[fsspec]>=1.15.0->dvc-gdrive) (4.1.1)\n",
            "Requirement already satisfied: google-api-core!=2.0.*,!=2.1.*,!=2.2.*,!=2.3.0,<3.0.0dev,>=1.31.5 in /usr/local/lib/python3.8/dist-packages (from google-api-python-client>=1.12.5->pydrive2[fsspec]>=1.15.0->dvc-gdrive) (2.11.0)\n",
            "Requirement already satisfied: httplib2<1dev,>=0.15.0 in /usr/local/lib/python3.8/dist-packages (from google-api-python-client>=1.12.5->pydrive2[fsspec]>=1.15.0->dvc-gdrive) (0.17.4)\n",
            "Requirement already satisfied: antlr4-python3-runtime==4.9.* in /usr/local/lib/python3.8/dist-packages (from hydra-core>=1.1.0->dvc->dvc-gdrive) (4.9.3)\n",
            "Requirement already satisfied: omegaconf<2.4,>=2.2 in /usr/local/lib/python3.8/dist-packages (from hydra-core>=1.1.0->dvc->dvc-gdrive) (2.3.0)\n",
            "Requirement already satisfied: zipp>=3.1.0 in /usr/local/lib/python3.8/dist-packages (from importlib-resources>=5.2.2->dvc->dvc-gdrive) (3.14.0)\n",
            "Requirement already satisfied: pyasn1-modules>=0.0.5 in /usr/local/lib/python3.8/dist-packages (from oauth2client>=4.0.0->pydrive2[fsspec]>=1.15.0->dvc-gdrive) (0.2.8)\n",
            "Requirement already satisfied: pyasn1>=0.1.7 in /usr/local/lib/python3.8/dist-packages (from oauth2client>=4.0.0->pydrive2[fsspec]>=1.15.0->dvc-gdrive) (0.4.8)\n",
            "Requirement already satisfied: rsa>=3.1.4 in /usr/local/lib/python3.8/dist-packages (from oauth2client>=4.0.0->pydrive2[fsspec]>=1.15.0->dvc-gdrive) (4.9)\n",
            "Requirement already satisfied: cryptography<40,>=38.0.0 in /usr/local/lib/python3.8/dist-packages (from pyOpenSSL>=19.1.0->pydrive2[fsspec]>=1.15.0->dvc-gdrive) (39.0.1)\n",
            "Requirement already satisfied: urllib3<1.27,>=1.21.1 in /usr/local/lib/python3.8/dist-packages (from requests>=2.22.0->dvc->dvc-gdrive) (1.26.14)\n",
            "Requirement already satisfied: idna<3,>=2.5 in /usr/local/lib/python3.8/dist-packages (from requests>=2.22.0->dvc->dvc-gdrive) (2.10)\n",
            "Requirement already satisfied: chardet<5,>=3.0.2 in /usr/local/lib/python3.8/dist-packages (from requests>=2.22.0->dvc->dvc-gdrive) (4.0.0)\n",
            "Requirement already satisfied: certifi>=2017.4.17 in /usr/local/lib/python3.8/dist-packages (from requests>=2.22.0->dvc->dvc-gdrive) (2022.12.7)\n",
            "Requirement already satisfied: pygments<3.0.0,>=2.14.0 in /usr/local/lib/python3.8/dist-packages (from rich>=12.0.0->dvc->dvc-gdrive) (2.14.0)\n",
            "Requirement already satisfied: markdown-it-py<3.0.0,>=2.1.0 in /usr/local/lib/python3.8/dist-packages (from rich>=12.0.0->dvc->dvc-gdrive) (2.2.0)\n",
            "Requirement already satisfied: ruamel.yaml.clib>=0.2.6 in /usr/local/lib/python3.8/dist-packages (from ruamel.yaml>=0.17.11->dvc->dvc-gdrive) (0.2.7)\n",
            "Requirement already satisfied: setuptools in /usr/local/lib/python3.8/dist-packages (from zc.lockfile>=1.2.1->dvc->dvc-gdrive) (57.4.0)\n",
            "Requirement already satisfied: aiohttp-retry>=2.5.0 in /usr/local/lib/python3.8/dist-packages (from dvc-http->dvc->dvc-gdrive) (2.8.3)\n",
            "Requirement already satisfied: aiohttp in /usr/local/lib/python3.8/dist-packages (from aiohttp-retry>=2.5.0->dvc-http->dvc->dvc-gdrive) (3.8.4)\n",
            "Requirement already satisfied: click-didyoumean>=0.0.3 in /usr/local/lib/python3.8/dist-packages (from celery<6,>=5.2.0->dvc-task==0.1.11->dvc->dvc-gdrive) (0.3.0)\n",
            "Requirement already satisfied: click<9.0,>=8.0.3 in /usr/local/lib/python3.8/dist-packages (from celery<6,>=5.2.0->dvc-task==0.1.11->dvc->dvc-gdrive) (8.1.3)\n",
            "Requirement already satisfied: click-plugins>=1.1.1 in /usr/local/lib/python3.8/dist-packages (from celery<6,>=5.2.0->dvc-task==0.1.11->dvc->dvc-gdrive) (1.1.1)\n",
            "Requirement already satisfied: pytz>=2021.3 in /usr/local/lib/python3.8/dist-packages (from celery<6,>=5.2.0->dvc-task==0.1.11->dvc->dvc-gdrive) (2022.7.1)\n",
            "Requirement already satisfied: click-repl>=0.2.0 in /usr/local/lib/python3.8/dist-packages (from celery<6,>=5.2.0->dvc-task==0.1.11->dvc->dvc-gdrive) (0.2.0)\n",
            "Requirement already satisfied: vine<6.0,>=5.0.0 in /usr/local/lib/python3.8/dist-packages (from celery<6,>=5.2.0->dvc-task==0.1.11->dvc->dvc-gdrive) (5.0.0)\n",
            "Requirement already satisfied: billiard<4.0,>=3.6.4.0 in /usr/local/lib/python3.8/dist-packages (from celery<6,>=5.2.0->dvc-task==0.1.11->dvc->dvc-gdrive) (3.6.4.0)\n",
            "Requirement already satisfied: cffi>=1.12 in /usr/local/lib/python3.8/dist-packages (from cryptography<40,>=38.0.0->pyOpenSSL>=19.1.0->pydrive2[fsspec]>=1.15.0->dvc-gdrive) (1.15.1)\n",
            "Requirement already satisfied: gitdb<5,>=4.0.1 in /usr/local/lib/python3.8/dist-packages (from gitpython>3->scmrepo==0.1.11->dvc->dvc-gdrive) (4.0.10)\n",
            "Requirement already satisfied: protobuf!=3.20.0,!=3.20.1,!=4.21.0,!=4.21.1,!=4.21.2,!=4.21.3,!=4.21.4,!=4.21.5,<5.0.0dev,>=3.19.5 in /usr/local/lib/python3.8/dist-packages (from google-api-core!=2.0.*,!=2.1.*,!=2.2.*,!=2.3.0,<3.0.0dev,>=1.31.5->google-api-python-client>=1.12.5->pydrive2[fsspec]>=1.15.0->dvc-gdrive) (3.19.6)\n",
            "Requirement already satisfied: googleapis-common-protos<2.0dev,>=1.56.2 in /usr/local/lib/python3.8/dist-packages (from google-api-core!=2.0.*,!=2.1.*,!=2.2.*,!=2.3.0,<3.0.0dev,>=1.31.5->google-api-python-client>=1.12.5->pydrive2[fsspec]>=1.15.0->dvc-gdrive) (1.58.0)\n",
            "Requirement already satisfied: cachetools<6.0,>=2.0.0 in /usr/local/lib/python3.8/dist-packages (from google-auth<3.0.0dev,>=1.19.0->google-api-python-client>=1.12.5->pydrive2[fsspec]>=1.15.0->dvc-gdrive) (5.3.0)\n",
            "Requirement already satisfied: amqp<6.0.0,>=5.0.9 in /usr/local/lib/python3.8/dist-packages (from kombu<6,>=5.2.0->dvc-task==0.1.11->dvc->dvc-gdrive) (5.1.1)\n",
            "Requirement already satisfied: mdurl~=0.1 in /usr/local/lib/python3.8/dist-packages (from markdown-it-py<3.0.0,>=2.1.0->rich>=12.0.0->dvc->dvc-gdrive) (0.1.2)\n",
            "Requirement already satisfied: async-timeout<5.0,>=4.0.0a3 in /usr/local/lib/python3.8/dist-packages (from aiohttp->aiohttp-retry>=2.5.0->dvc-http->dvc->dvc-gdrive) (4.0.2)\n",
            "Requirement already satisfied: aiosignal>=1.1.2 in /usr/local/lib/python3.8/dist-packages (from aiohttp->aiohttp-retry>=2.5.0->dvc-http->dvc->dvc-gdrive) (1.3.1)\n",
            "Requirement already satisfied: frozenlist>=1.1.1 in /usr/local/lib/python3.8/dist-packages (from aiohttp->aiohttp-retry>=2.5.0->dvc-http->dvc->dvc-gdrive) (1.3.3)\n",
            "Requirement already satisfied: multidict<7.0,>=4.5 in /usr/local/lib/python3.8/dist-packages (from aiohttp->aiohttp-retry>=2.5.0->dvc-http->dvc->dvc-gdrive) (6.0.4)\n",
            "Requirement already satisfied: charset-normalizer<4.0,>=2.0 in /usr/local/lib/python3.8/dist-packages (from aiohttp->aiohttp-retry>=2.5.0->dvc-http->dvc->dvc-gdrive) (3.0.1)\n",
            "Requirement already satisfied: yarl<2.0,>=1.0 in /usr/local/lib/python3.8/dist-packages (from aiohttp->aiohttp-retry>=2.5.0->dvc-http->dvc->dvc-gdrive) (1.8.2)\n",
            "Requirement already satisfied: pycparser in /usr/local/lib/python3.8/dist-packages (from cffi>=1.12->cryptography<40,>=38.0.0->pyOpenSSL>=19.1.0->pydrive2[fsspec]>=1.15.0->dvc-gdrive) (2.21)\n",
            "Requirement already satisfied: prompt-toolkit in /usr/local/lib/python3.8/dist-packages (from click-repl>=0.2.0->celery<6,>=5.2.0->dvc-task==0.1.11->dvc->dvc-gdrive) (2.0.10)\n",
            "Requirement already satisfied: smmap<6,>=3.0.1 in /usr/local/lib/python3.8/dist-packages (from gitdb<5,>=4.0.1->gitpython>3->scmrepo==0.1.11->dvc->dvc-gdrive) (5.0.0)\n",
            "Requirement already satisfied: wcwidth in /usr/local/lib/python3.8/dist-packages (from prompt-toolkit->click-repl>=0.2.0->celery<6,>=5.2.0->dvc-task==0.1.11->dvc->dvc-gdrive) (0.2.6)\n",
            "Installing collected packages: pyOpenSSL, pydrive2, dvc-gdrive\n",
            "Successfully installed dvc-gdrive-2.19.1 pyOpenSSL-23.0.0 pydrive2-1.15.1\n"
          ]
        }
      ]
    },
    {
      "cell_type": "code",
      "source": [
        "!dvc push"
      ],
      "metadata": {
        "colab": {
          "base_uri": "https://localhost:8080/"
        },
        "id": "Znp3NKGotebK",
        "outputId": "c4fce34e-25fd-4da8-9269-e74eabea7aa0"
      },
      "execution_count": 76,
      "outputs": [
        {
          "output_type": "stream",
          "name": "stdout",
          "text": [
            "Querying remote cache:   0% 0/1 [00:00<?, ?files/s{'info': ''}]/usr/local/lib/python3.8/dist-packages/oauth2client/_helpers.py:255: UserWarning: Cannot access /root/.cache/pydrive2fs/710796635688-iivsgbgsb6uv1fap6635dhvuei09o66c.apps.googleusercontent.com/default.json: No such file or directory\n",
            "  warnings.warn(_MISSING_FILE_MESSAGE.format(filename))\n",
            "Your browser has been opened to visit:\n",
            "\n",
            "    https://accounts.google.com/o/oauth2/auth?client_id=710796635688-iivsgbgsb6uv1fap6635dhvuei09o66c.apps.googleusercontent.com&redirect_uri=http%3A%2F%2Flocalhost%3A8090%2F&scope=https%3A%2F%2Fwww.googleapis.com%2Fauth%2Fdrive+https%3A%2F%2Fwww.googleapis.com%2Fauth%2Fdrive.appdata&access_type=offline&response_type=code&approval_prompt=force\n",
            "\n",
            "\u001b[31mERROR\u001b[39m: interrupted by the user\n",
            "Traceback (most recent call last):\n",
            "  File \"/usr/local/bin/dvc\", line 8, in <module>\n",
            "    sys.exit(main())\n",
            "  File \"/usr/local/lib/python3.8/dist-packages/dvc/cli/__init__.py\", line 242, in main\n",
            "    analytics.collect_and_send_report(args, ret)\n",
            "  File \"/usr/local/lib/python3.8/dist-packages/dvc/analytics.py\", line 37, in collect_and_send_report\n",
            "    daemon([\"analytics\", fobj.name])\n",
            "  File \"/usr/local/lib/python3.8/dist-packages/dvc/daemon.py\", line 106, in daemon\n",
            "    daemonize([\"daemon\", \"-q\", *args])\n",
            "  File \"/usr/local/lib/python3.8/dist-packages/dvc/daemon.py\", line 116, in daemonize\n",
            "    file_path = os.path.abspath(inspect.stack()[0][1])\n",
            "  File \"/usr/lib/python3.8/inspect.py\", line 1526, in stack\n",
            "    return getouterframes(sys._getframe(1), context)\n",
            "  File \"/usr/lib/python3.8/inspect.py\", line 1503, in getouterframes\n",
            "    frameinfo = (frame,) + getframeinfo(frame, context)\n",
            "  File \"/usr/lib/python3.8/inspect.py\", line 1477, in getframeinfo\n",
            "    lines, lnum = findsource(frame)\n",
            "  File \"/usr/lib/python3.8/inspect.py\", line 792, in findsource\n",
            "    module = getmodule(object, file)\n",
            "  File \"/usr/lib/python3.8/inspect.py\", line 744, in getmodule\n",
            "    for modname, module in sys.modules.copy().items():\n",
            "KeyboardInterrupt\n",
            "\u001b[0m^C\n"
          ]
        }
      ]
    },
    {
      "cell_type": "code",
      "source": [
        "import dvc_gdrive"
      ],
      "metadata": {
        "id": "IG2sLlhxutHQ"
      },
      "execution_count": 78,
      "outputs": []
    },
    {
      "cell_type": "code",
      "source": [
        "!dvc push"
      ],
      "metadata": {
        "colab": {
          "base_uri": "https://localhost:8080/"
        },
        "id": "TpWGI3oNu6Qi",
        "outputId": "c906140c-63b2-43c0-a7a8-11ba3cb3d0e1"
      },
      "execution_count": 83,
      "outputs": [
        {
          "output_type": "stream",
          "name": "stdout",
          "text": [
            "\r!\rIf DVC froze, see `hardlink_lock` in <\u001b[36mhttps://man.dvc.org/config#core\u001b[39m>\r                                                                      \r\rQuerying remote cache:   0% 0/1 [00:00<?, ?files/s]\rQuerying remote cache:   0% 0/1 [00:00<?, ?files/s{'info': ''}]/usr/local/lib/python3.8/dist-packages/oauth2client/_helpers.py:255: UserWarning: Cannot access /root/.cache/pydrive2fs/710796635688-iivsgbgsb6uv1fap6635dhvuei09o66c.apps.googleusercontent.com/default.json: No such file or directory\n",
            "  warnings.warn(_MISSING_FILE_MESSAGE.format(filename))\n",
            "Your browser has been opened to visit:\n",
            "\n",
            "    https://accounts.google.com/o/oauth2/auth?client_id=710796635688-iivsgbgsb6uv1fap6635dhvuei09o66c.apps.googleusercontent.com&redirect_uri=http%3A%2F%2Flocalhost%3A8090%2F&scope=https%3A%2F%2Fwww.googleapis.com%2Fauth%2Fdrive+https%3A%2F%2Fwww.googleapis.com%2Fauth%2Fdrive.appdata&access_type=offline&response_type=code&approval_prompt=force\n",
            "\n",
            "\u001b[31mERROR\u001b[39m: interrupted by the user\n",
            "\u001b[0m"
          ]
        }
      ]
    },
    {
      "cell_type": "code",
      "source": [
        "!dvc status"
      ],
      "metadata": {
        "colab": {
          "base_uri": "https://localhost:8080/"
        },
        "id": "h965eM2Aw1A_",
        "outputId": "872edd31-4b02-4246-c512-805de37f1d43"
      },
      "execution_count": 110,
      "outputs": [
        {
          "output_type": "stream",
          "name": "stdout",
          "text": [
            "\r!\rIf DVC froze, see `hardlink_lock` in <\u001b[36mhttps://man.dvc.org/config#core\u001b[39m>\r                                                                      \r\r!\rBuilding data objects from data          |0.00 [00:00,      ?obj/s]\r                                                                   \rData and pipelines are up to date.\n",
            "\u001b[0m"
          ]
        }
      ]
    },
    {
      "cell_type": "code",
      "source": [
        "!git log"
      ],
      "metadata": {
        "colab": {
          "base_uri": "https://localhost:8080/"
        },
        "id": "Ii2d310dxH5f",
        "outputId": "dd3fabe6-0ce4-4a46-b9fd-61f5a3f1fbda"
      },
      "execution_count": 111,
      "outputs": [
        {
          "output_type": "stream",
          "name": "stdout",
          "text": [
            "\u001b[33mcommit 0add420a54876fcf081b884c4cb7378577c7f0eb\u001b[m\u001b[33m (\u001b[m\u001b[1;36mHEAD -> \u001b[m\u001b[1;32mmaster\u001b[m\u001b[33m)\u001b[m\n",
            "Author: Ayush Srivastava <ayush.srivastava.mnnit@gmail.com>\n",
            "Date:   Mon Feb 27 08:53:11 2023 +0000\n",
            "\n",
            "    Seed Changes to 105\n"
          ]
        }
      ]
    },
    {
      "cell_type": "code",
      "source": [
        "! git log --oneline"
      ],
      "metadata": {
        "colab": {
          "base_uri": "https://localhost:8080/"
        },
        "id": "5Z753Z1kxddp",
        "outputId": "6ea16193-cfef-4816-aa48-cb40e2c93999"
      },
      "execution_count": 112,
      "outputs": [
        {
          "output_type": "stream",
          "name": "stdout",
          "text": [
            "\u001b[33m0add420\u001b[m\u001b[33m (\u001b[m\u001b[1;36mHEAD -> \u001b[m\u001b[1;32mmaster\u001b[m\u001b[33m)\u001b[m Seed Changes to 105\n"
          ]
        }
      ]
    },
    {
      "cell_type": "code",
      "source": [
        "X_train, X_test, y_train, y_test = train_test_split(raw_data.Text, raw_data['Label'], test_size=0.15, random_state=105)\n",
        "X_train, X_val, y_train, y_val = train_test_split(X_train, y_train, test_size=0.15, random_state=105)"
      ],
      "metadata": {
        "id": "rRg5A2ATFqEv"
      },
      "execution_count": 113,
      "outputs": []
    },
    {
      "cell_type": "code",
      "source": [
        "df_train = pd.DataFrame(list(zip(X_train,y_train)),columns=[\"Text\",'Label'])\n",
        "df_test = pd.DataFrame(list(zip(X_test,y_test)),columns=[\"Text\",'Label'])\n",
        "df_val = pd.DataFrame(list(zip(X_val,y_val)),columns=[\"Text\",'Label'])\n",
        "df_val.to_csv('data/Validation_Data.csv',index=False) \n",
        "df_test.to_csv('data/Test_Data.csv',index=False) \n",
        "df_train.to_csv('data/Training_Data.csv',index=False)"
      ],
      "metadata": {
        "id": "U0vGkYI7GhQV"
      },
      "execution_count": 114,
      "outputs": []
    },
    {
      "cell_type": "code",
      "source": [
        "train = pd.read_csv('data/Training_Data.csv')\n",
        "val = pd.read_csv('data/Validation_Data.csv')\n",
        "test = pd.read_csv('data/Test_Data.csv')"
      ],
      "metadata": {
        "id": "WNxZRzhPG2QP"
      },
      "execution_count": 115,
      "outputs": []
    },
    {
      "cell_type": "code",
      "source": [
        "## checking the data profile before update\n",
        "print(\"Train set - number of 0s:\", sum(train['Label'] == 0), \"number of 1s:\", sum(train['Label'] == 1))\n",
        "print(\"Validation set - number of 0s:\", sum(val['Label'] == 0), \"number of 1s:\", sum(val['Label'] == 1))\n",
        "print(\"Test set - number of 0s:\", sum(test['Label'] == 0), \"number of 1s:\", sum(test['Label'] == 1))"
      ],
      "metadata": {
        "colab": {
          "base_uri": "https://localhost:8080/"
        },
        "id": "N8jmdU-gG1SB",
        "outputId": "4c7b9b76-2f7d-4cf5-9bc8-4b05a2a97829"
      },
      "execution_count": 116,
      "outputs": [
        {
          "output_type": "stream",
          "name": "stdout",
          "text": [
            "Train set - number of 0s: 3482 number of 1s: 543\n",
            "Validation set - number of 0s: 607 number of 1s: 104\n",
            "Test set - number of 0s: 736 number of 1s: 100\n"
          ]
        }
      ]
    },
    {
      "cell_type": "code",
      "source": [
        "! dvc add data"
      ],
      "metadata": {
        "colab": {
          "base_uri": "https://localhost:8080/"
        },
        "id": "GNjGa5-rHPIC",
        "outputId": "6c73fb17-9520-4219-f7e1-690fb8cfbbe1"
      },
      "execution_count": 117,
      "outputs": [
        {
          "output_type": "stream",
          "name": "stdout",
          "text": [
            "\r!\rIf DVC froze, see `hardlink_lock` in <\u001b[36mhttps://man.dvc.org/config#core\u001b[39m>\r                                                                      \r\r!\rCollecting targets          |0.00 [00:00,     ?file/s]\r                                                      \r\u001b[?25l\u001b[32m⠋\u001b[0m Checking graph\r\u001b[2K\u001b[32m⠋\u001b[0m Checking graph\n",
            "\u001b[?25h\r\u001b[1A\u001b[2K\rAdding...:   0% 0/1 [00:00<?, ?file/s]\rAdding...:   0% 0/1 [00:00<?, ?file/s{'info': ''}]\rAdding...:   0% 0/1 [00:00<?, ?file/s{'info': ''}]\n",
            "\r!\u001b[A\n",
            "\rBuilding data objects from data          |0.00 [00:00,      ?obj/s]\u001b[A\n",
            "\r                                                                   \u001b[A\n",
            "\r!\u001b[A\n",
            "\rBuilding data objects from data          |0.00 [00:00,      ?obj/s]\u001b[A\n",
            "\r                                                                   \u001b[A\n",
            "\r!\u001b[A\n",
            "\r  0% |          |0/? [00:00<?,    ?files/s]\u001b[A\n",
            "\r                                           \u001b[A\n",
            "\r!\u001b[A\n",
            "\r  0%|          |Transferring                          0/? [00:00<?,     ?file/s]\u001b[A\n",
            "\rTransferring:   0% 0/3 [00:00<?, ?file/s{'info': ''}]                           \u001b[A\n",
            "\r  0%|          |Transferring                    3/? [00:00<00:00, 2153.87file/s]\u001b[A\n",
            "\n",
            "\r!\u001b[A\u001b[A\n",
            "\n",
            "\r  0%|          |memory://.T94emV36xuN3yV6de8FMk4.tm0.00/? [00:00<?,        ?B/s]\u001b[A\u001b[A\n",
            "\n",
            "\rmemory://.T94emV36xuN3yV6de8FMk4.tmp:   0% 0.00/229 [00:00<?, ?B/s{'info': ''}] \u001b[A\u001b[A\n",
            "\n",
            "\r                                                                               \u001b[A\u001b[A\n",
            "\r                                                                                \u001b[A\n",
            "\r!\u001b[A\n",
            "\rBuilding data objects from data          |0.00 [00:00,      ?obj/s]\u001b[A\n",
            "\r                                                                   \u001b[A\rAdding...: 100% 1/1 [00:00<00:00, 22.80file/s{'info': ''}]\n",
            "\u001b[0m"
          ]
        }
      ]
    },
    {
      "cell_type": "code",
      "source": [
        "! git add data.dvc"
      ],
      "metadata": {
        "id": "NDo4r_IKHhjs"
      },
      "execution_count": 119,
      "outputs": []
    },
    {
      "cell_type": "code",
      "source": [
        "! git commit -m \"changed to 105 random state\""
      ],
      "metadata": {
        "colab": {
          "base_uri": "https://localhost:8080/"
        },
        "id": "Y7G-piEtHoZX",
        "outputId": "f0618cf5-9c1a-4b11-8336-01577a7568c4"
      },
      "execution_count": 120,
      "outputs": [
        {
          "output_type": "stream",
          "name": "stdout",
          "text": [
            "[master 673efb2] changed to 105 random state\n",
            " 1 file changed, 1 insertion(+), 1 deletion(-)\n"
          ]
        }
      ]
    },
    {
      "cell_type": "code",
      "source": [
        "! git checkout HEAD^1 data.dvc      \n",
        "! dvc checkout "
      ],
      "metadata": {
        "colab": {
          "base_uri": "https://localhost:8080/"
        },
        "id": "MRZVbDYZ0kC5",
        "outputId": "564abef5-ef73-4607-ea59-43f93737c045"
      },
      "execution_count": 122,
      "outputs": [
        {
          "output_type": "stream",
          "name": "stdout",
          "text": [
            "Updated 1 path from 2fa9119\n",
            "Checkout:   0% 0/3 [00:00<?, ?file/s{'info': ''}]  \n",
            "!\u001b[A\n",
            "Building data objects from data          |0.00 [00:00,      ?obj/s]\u001b[A\n",
            "Checkout:   0% 0/1 [00:00<?, ?file/s{'info': ''}]\n",
            "!\u001b[A\n",
            "  0%|          |/content/.dvc/cache/4e/fb18e77773850.00/? [00:00<?,        ?B/s]\u001b[A\n",
            "  0% 0.00/60.6k [00:00<?, ?B/s{'info': ''}]                                     \u001b[A\n",
            "Checkout: 100% 1/1 [00:00<00:00, 83.14file/s{'info': ''}]\n",
            "!\u001b[A\n",
            "  0%|          |/content/.dvc/cache/cb/04bcdf531d3e0.00/? [00:00<?,        ?B/s]\u001b[A\n",
            "  0% 0.00/332k [00:00<?, ?B/s{'info': ''}]                                      \u001b[A\n",
            "  0% Checkout|          |2/? [00:00<00:00, 143.16file/s] \n",
            "!\u001b[A\n",
            "  0%|          |/content/.dvc/cache/41/b0261ce9302a0.00/? [00:00<?,        ?B/s]\u001b[A\n",
            "  0% 0.00/65.2k [00:00<?, ?B/s{'info': ''}]                                     \u001b[A\n",
            "\u001b[33mM\u001b[0m       data/\n",
            "\u001b[0m"
          ]
        }
      ]
    },
    {
      "cell_type": "code",
      "source": [
        "!dvc checkout"
      ],
      "metadata": {
        "colab": {
          "base_uri": "https://localhost:8080/"
        },
        "id": "X6jhxGsN0rQ_",
        "outputId": "23e53856-ce83-4704-ce28-a13276490a18"
      },
      "execution_count": 85,
      "outputs": [
        {
          "output_type": "stream",
          "name": "stdout",
          "text": [
            "\r!\rIf DVC froze, see `hardlink_lock` in <\u001b[36mhttps://man.dvc.org/config#core\u001b[39m>\r                                                                      \r\r!\r  0% Checkout|          |0/? [00:00<?,     ?file/s]\rCheckout:   0% 0/3 [00:00<?, ?file/s{'info': ''}]  \n",
            "\r!\u001b[A\n",
            "\rBuilding data objects from data          |0.00 [00:00,      ?obj/s]\u001b[A\n",
            "\r                                                                   \u001b[A\r                                                 \r\u001b[0m"
          ]
        }
      ]
    },
    {
      "cell_type": "code",
      "source": [
        "train = pd.read_csv('data/Training_Data.csv')\n",
        "val = pd.read_csv('data/Validation_Data.csv')\n",
        "test = pd.read_csv('data/Test_Data.csv')"
      ],
      "metadata": {
        "id": "ma-E0qXGIVJ2"
      },
      "execution_count": 123,
      "outputs": []
    },
    {
      "cell_type": "code",
      "source": [
        "print(\"Train set - number of 0s:\", sum(train['Label'] == 0), \"number of 1s:\", sum(train['Label'] == 1))\n",
        "print(\"Validation set - number of 0s:\", sum(val['Label'] == 0), \"number of 1s:\", sum(val['Label'] == 1))\n",
        "print(\"Test set - number of 0s:\", sum(test['Label'] == 0), \"number of 1s:\", sum(test['Label'] == 1))"
      ],
      "metadata": {
        "colab": {
          "base_uri": "https://localhost:8080/"
        },
        "id": "TJ7XeUShIjQl",
        "outputId": "fb2676c7-ff07-47e0-8933-3a8c1b098e63"
      },
      "execution_count": 124,
      "outputs": [
        {
          "output_type": "stream",
          "name": "stdout",
          "text": [
            "Train set - number of 0s: 3479 number of 1s: 546\n",
            "Validation set - number of 0s: 614 number of 1s: 97\n",
            "Test set - number of 0s: 732 number of 1s: 104\n"
          ]
        }
      ]
    },
    {
      "cell_type": "code",
      "source": [
        "! git checkout HEAD data.dvc      \n",
        "! dvc checkout "
      ],
      "metadata": {
        "colab": {
          "base_uri": "https://localhost:8080/"
        },
        "id": "u0VjdwEpIsx5",
        "outputId": "0a81b809-f98d-4779-f216-1427996409dd"
      },
      "execution_count": 125,
      "outputs": [
        {
          "output_type": "stream",
          "name": "stdout",
          "text": [
            "Updated 1 path from a01df26\n",
            "Checkout:   0% 0/3 [00:00<?, ?file/s{'info': ''}]  \n",
            "!\u001b[A\n",
            "Building data objects from data          |0.00 [00:00,      ?obj/s]\u001b[A\n",
            "Checkout:   0% 0/1 [00:00<?, ?file/s{'info': ''}]\n",
            "!\u001b[A\n",
            "  0%|          |/content/.dvc/cache/e7/a0749ec82b2b0.00/? [00:00<?,        ?B/s]\u001b[A\n",
            "  0% 0.00/58.8k [00:00<?, ?B/s{'info': ''}]                                     \u001b[A\n",
            "Checkout: 100% 1/1 [00:00<00:00, 75.58file/s{'info': ''}]\n",
            "!\u001b[A\n",
            "  0%|          |/content/.dvc/cache/48/28a74e10d58e0.00/? [00:00<?,        ?B/s]\u001b[A\n",
            "  0% 0.00/333k [00:00<?, ?B/s{'info': ''}]                                      \u001b[A\n",
            "  0% Checkout|          |2/? [00:00<00:00, 132.04file/s] \n",
            "!\u001b[A\n",
            "  0%|          |/content/.dvc/cache/00/5d263fd061a90.00/? [00:00<?,        ?B/s]\u001b[A\n",
            "  0% 0.00/66.2k [00:00<?, ?B/s{'info': ''}]                                     \u001b[A\n",
            "\u001b[33mM\u001b[0m       data/\n",
            "\u001b[0m"
          ]
        }
      ]
    },
    {
      "cell_type": "code",
      "source": [
        "train = pd.read_csv('data/Training_Data.csv')\n",
        "val = pd.read_csv('data/Validation_Data.csv')\n",
        "test = pd.read_csv('data/Test_Data.csv')"
      ],
      "metadata": {
        "id": "ro7yDyyCIzo4"
      },
      "execution_count": 126,
      "outputs": []
    },
    {
      "cell_type": "code",
      "source": [
        "print(\"Train set - number of 0s:\", sum(train['Label'] == 0), \"number of 1s:\", sum(train['Label'] == 1))\n",
        "print(\"Validation set - number of 0s:\", sum(val['Label'] == 0), \"number of 1s:\", sum(val['Label'] == 1))\n",
        "print(\"Test set - number of 0s:\", sum(test['Label'] == 0), \"number of 1s:\", sum(test['Label'] == 1))"
      ],
      "metadata": {
        "colab": {
          "base_uri": "https://localhost:8080/"
        },
        "id": "BzXrUGr6I2-5",
        "outputId": "f7f402a0-73b9-43a7-cd9e-8b3d41d0258c"
      },
      "execution_count": 127,
      "outputs": [
        {
          "output_type": "stream",
          "name": "stdout",
          "text": [
            "Train set - number of 0s: 3482 number of 1s: 543\n",
            "Validation set - number of 0s: 607 number of 1s: 104\n",
            "Test set - number of 0s: 736 number of 1s: 100\n"
          ]
        }
      ]
    }
  ]
}